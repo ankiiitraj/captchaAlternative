{
 "cells": [
  {
   "cell_type": "code",
   "execution_count": 98,
   "metadata": {},
   "outputs": [],
   "source": [
    "import tensorflow as tf\n",
    "import matplotlib.pyplot as plt\n",
    "import librosa as lb\n",
    "import numpy as np\n",
    "import pylab"
   ]
  },
  {
   "cell_type": "code",
   "execution_count": 99,
   "metadata": {},
   "outputs": [],
   "source": [
    "import wave\n",
    "import numpy as np\n",
    "import matplotlib.pyplot as plt\n",
    "\n",
    "# wr = wave.open('cb.wav', 'r')\n",
    "# sz = 44100 # Read and process 1 second at a time.\n",
    "# da = np.fromstring(wr.readframes(sz), dtype=np.int16)\n",
    "# left, right = da[0::2], da[1::2]"
   ]
  },
  {
   "cell_type": "code",
   "execution_count": 100,
   "metadata": {},
   "outputs": [],
   "source": [
    "input_files = ['0143m.wav','0483m.wav','1232m.wav','2031m.wav','2995m.wav','5678m.wav','6363m.wav','8376m.wav','0376.wav','0478.wav','0483.wav','0695.wav','1207.wav','1232.wav','1472.wav','1689.wav']"
   ]
  },
  {
   "cell_type": "code",
   "execution_count": 101,
   "metadata": {},
   "outputs": [],
   "source": [
    "real_output = [[1,0],[1,0],[1,0],[1,0], [1,0], [1,0], [1,0],[1,0],[0,1],[0,1],[0,1],[0,1],[0,1],[0,1],[0,1],[0,1]]"
   ]
  },
  {
   "cell_type": "code",
   "execution_count": 102,
   "metadata": {},
   "outputs": [
    {
     "data": {
      "text/plain": [
       "16"
      ]
     },
     "execution_count": 102,
     "metadata": {},
     "output_type": "execute_result"
    }
   ],
   "source": [
    "len(input_files)"
   ]
  },
  {
   "cell_type": "code",
   "execution_count": 103,
   "metadata": {},
   "outputs": [
    {
     "data": {
      "text/plain": [
       "16"
      ]
     },
     "execution_count": 103,
     "metadata": {},
     "output_type": "execute_result"
    }
   ],
   "source": [
    "len(real_output)"
   ]
  },
  {
   "cell_type": "code",
   "execution_count": 104,
   "metadata": {},
   "outputs": [],
   "source": [
    "train_data = np.empty((0,128,50,1))\n",
    "label = np.empty((0,2))"
   ]
  },
  {
   "cell_type": "code",
   "execution_count": 105,
   "metadata": {},
   "outputs": [
    {
     "data": {
      "text/plain": [
       "(0, 128, 50, 1)"
      ]
     },
     "execution_count": 105,
     "metadata": {},
     "output_type": "execute_result"
    }
   ],
   "source": [
    "train_data.shape"
   ]
  },
  {
   "cell_type": "code",
   "execution_count": 106,
   "metadata": {},
   "outputs": [
    {
     "name": "stdout",
     "output_type": "stream",
     "text": [
      "0\n",
      "1\n"
     ]
    },
    {
     "name": "stderr",
     "output_type": "stream",
     "text": [
      "/home/rishabhlucky/Documents/Virtualenv/lib/python3.6/site-packages/ipykernel_launcher.py:5: MatplotlibDeprecationWarning: Adding an axes using the same arguments as a previous axes currently reuses the earlier instance.  In a future version, a new instance will always be created and returned.  Meanwhile, this warning can be suppressed, and the future behavior ensured, by passing a unique label to each axes instance.\n",
      "  \"\"\"\n"
     ]
    },
    {
     "name": "stdout",
     "output_type": "stream",
     "text": [
      "2\n",
      "3\n",
      "4\n",
      "5\n",
      "6\n",
      "7\n"
     ]
    },
    {
     "data": {
      "image/png": "[encoded data removed]",
      "text/plain": [
       "<Figure size 432x288 with 2 Axes>"
      ]
     },
     "metadata": {
      "needs_background": "light"
     },
     "output_type": "display_data"
    }
   ],
   "source": [
    "for counter in range(8):\n",
    "    print (counter)\n",
    "    y, sr = lb.load(input_files[counter])\n",
    "    pylab.axis('off') # no axis\n",
    "    pylab.axes([0., 0., 1., 1.], frameon=False, xticks=[], yticks=[]) # Remove the white edge\n",
    "    S = lb.feature.melspectrogram(y, sr)\n",
    "    \n",
    "    s = np.log10(S+0.0001)+5\n",
    "    z=s[:,30:80]\n",
    "    \n",
    "    t1 = z.reshape(128, 50, 1)\n",
    "    \n",
    "    l1 = [0,0]\n",
    "    l1[real_output[counter][0]] = 1\n",
    "    \n",
    "    tx=[t1]\n",
    "    lx=[l1]\n",
    "    train_data=np.concatenate((train_data,tx), axis=0, out=None)\n",
    "    label=np.concatenate((label,lx), axis=0, out=None)\n",
    "    "
   ]
  },
  {
   "cell_type": "code",
   "execution_count": 107,
   "metadata": {},
   "outputs": [
    {
     "data": {
      "text/plain": [
       "(8, 2)"
      ]
     },
     "execution_count": 107,
     "metadata": {},
     "output_type": "execute_result"
    }
   ],
   "source": [
    "label.shape"
   ]
  },
  {
   "cell_type": "code",
   "execution_count": null,
   "metadata": {},
   "outputs": [],
   "source": []
  },
  {
   "cell_type": "code",
   "execution_count": null,
   "metadata": {},
   "outputs": [],
   "source": []
  },
  {
   "cell_type": "code",
   "execution_count": null,
   "metadata": {},
   "outputs": [],
   "source": []
  },
  {
   "cell_type": "code",
   "execution_count": 108,
   "metadata": {},
   "outputs": [],
   "source": [
    "save_path = 'test.jpg'"
   ]
  },
  {
   "cell_type": "code",
   "execution_count": null,
   "metadata": {},
   "outputs": [],
   "source": []
  },
  {
   "cell_type": "code",
   "execution_count": null,
   "metadata": {},
   "outputs": [],
   "source": []
  },
  {
   "cell_type": "code",
   "execution_count": null,
   "metadata": {},
   "outputs": [],
   "source": []
  },
  {
   "cell_type": "code",
   "execution_count": null,
   "metadata": {},
   "outputs": [],
   "source": []
  },
  {
   "cell_type": "code",
   "execution_count": null,
   "metadata": {},
   "outputs": [],
   "source": []
  },
  {
   "cell_type": "code",
   "execution_count": 109,
   "metadata": {},
   "outputs": [
    {
     "data": {
      "text/plain": [
       "<matplotlib.image.AxesImage at 0x7f63fc0fa6d8>"
      ]
     },
     "execution_count": 109,
     "metadata": {},
     "output_type": "execute_result"
    },
    {
     "data": {
      "image/png": "[encoded data removed]",
      "text/plain": [
       "<Figure size 432x288 with 1 Axes>"
      ]
     },
     "metadata": {
      "needs_background": "light"
     },
     "output_type": "display_data"
    }
   ],
   "source": [
    "sss1 = np.array(ss1)\n",
    "s6 = np.log10(sss1+0.0001)+5\n",
    "plt.imshow(s6)"
   ]
  },
  {
   "cell_type": "code",
   "execution_count": 110,
   "metadata": {},
   "outputs": [
    {
     "data": {
      "text/plain": [
       "<matplotlib.image.AxesImage at 0x7f63fc0d7fd0>"
      ]
     },
     "execution_count": 110,
     "metadata": {},
     "output_type": "execute_result"
    },
    {
     "data": {
      "image/png": "[encoded data removed]",
      "text/plain": [
       "<Figure size 432x288 with 1 Axes>"
      ]
     },
     "metadata": {
      "needs_background": "light"
     },
     "output_type": "display_data"
    }
   ],
   "source": [
    "sss2 = np.array(ss2)\n",
    "s7 = np.log10(sss2+0.0001)+5\n",
    "plt.imshow(s7)"
   ]
  },
  {
   "cell_type": "code",
   "execution_count": 111,
   "metadata": {},
   "outputs": [
    {
     "data": {
      "text/plain": [
       "<matplotlib.image.AxesImage at 0x7f63fc03aa90>"
      ]
     },
     "execution_count": 111,
     "metadata": {},
     "output_type": "execute_result"
    },
    {
     "data": {
      "image/png": "[encoded data removed]",
      "text/plain": [
       "<Figure size 432x288 with 1 Axes>"
      ]
     },
     "metadata": {
      "needs_background": "light"
     },
     "output_type": "display_data"
    }
   ],
   "source": [
    "sss3 = np.array(ss3)\n",
    "s8 = np.log10(sss3+0.0001)+5\n",
    "plt.imshow(s8)"
   ]
  },
  {
   "cell_type": "code",
   "execution_count": 112,
   "metadata": {},
   "outputs": [
    {
     "data": {
      "text/plain": [
       "<matplotlib.image.AxesImage at 0x7f63f77e94e0>"
      ]
     },
     "execution_count": 112,
     "metadata": {},
     "output_type": "execute_result"
    },
    {
     "data": {
      "image/png": "[encoded data removed]",
      "text/plain": [
       "<Figure size 432x288 with 1 Axes>"
      ]
     },
     "metadata": {
      "needs_background": "light"
     },
     "output_type": "display_data"
    }
   ],
   "source": [
    "sss4 = np.array(ss4)\n",
    "s9 = np.log10(sss4+0.0001)+5\n",
    "plt.imshow(s9)"
   ]
  },
  {
   "cell_type": "code",
   "execution_count": 113,
   "metadata": {},
   "outputs": [
    {
     "data": {
      "text/plain": [
       "<matplotlib.image.AxesImage at 0x7f63fc13dc18>"
      ]
     },
     "execution_count": 113,
     "metadata": {},
     "output_type": "execute_result"
    },
    {
     "data": {
      "image/png": "[encoded data removed]",
      "text/plain": [
       "<Figure size 432x288 with 1 Axes>"
      ]
     },
     "metadata": {
      "needs_background": "light"
     },
     "output_type": "display_data"
    }
   ],
   "source": [
    "s = np.log10(S+0.0001)+5\n",
    "z=s[:,30:80]\n",
    "plt.imshow(z)"
   ]
  },
  {
   "cell_type": "code",
   "execution_count": 114,
   "metadata": {},
   "outputs": [
    {
     "data": {
      "text/plain": [
       "(8, 128, 50, 1)"
      ]
     },
     "execution_count": 114,
     "metadata": {},
     "output_type": "execute_result"
    }
   ],
   "source": [
    "# t1 = np.asarray(s6, dtype=float)\n",
    "\n",
    "# train_data = [td]\n",
    "\n",
    "\n",
    "\n",
    "\n",
    "\n",
    "\n",
    "train_data.shape"
   ]
  },
  {
   "cell_type": "code",
   "execution_count": 115,
   "metadata": {},
   "outputs": [],
   "source": [
    "import tflearn \n",
    "from tflearn.layers.conv import conv_2d, max_pool_2d \n",
    "from tflearn.layers.core import input_data, dropout, fully_connected \n",
    "from tflearn.layers.estimator import regression "
   ]
  },
  {
   "cell_type": "code",
   "execution_count": 116,
   "metadata": {},
   "outputs": [],
   "source": [
    "from tensorflow import keras\n",
    "from tensorflow.keras.models import Sequential\n",
    "from tensorflow.keras.layers import Dense, Conv2D, Flatten\n",
    "#create model\n",
    "model = Sequential([\n",
    "    keras.layers.Conv2D(16, 3, padding='same', activation='relu', input_shape=(128, 50, 1)),\n",
    "    keras.layers.MaxPooling2D(),\n",
    "    keras.layers.Conv2D(32, 3, padding='same', activation='relu'),\n",
    "    keras.layers.MaxPooling2D(),\n",
    "    keras.layers.Conv2D(64, 3, padding='same', activation='relu'),\n",
    "    keras.layers.MaxPooling2D(),\n",
    "    keras.layers.Flatten(),\n",
    "    keras.layers.Dense(256, activation='relu'),\n",
    "    keras.layers.Dense(60, activation='relu'),\n",
    "    keras.layers.Dense(2, activation='softmax')\n",
    "])\n"
   ]
  },
  {
   "cell_type": "code",
   "execution_count": 117,
   "metadata": {},
   "outputs": [],
   "source": [
    "model.compile(optimizer='adam', loss='mean_squared_error', metrics=['accuracy'])"
   ]
  },
  {
   "cell_type": "code",
   "execution_count": null,
   "metadata": {},
   "outputs": [],
   "source": []
  },
  {
   "cell_type": "code",
   "execution_count": 118,
   "metadata": {},
   "outputs": [
    {
     "name": "stdout",
     "output_type": "stream",
     "text": [
      "Epoch 1/50\n",
      "8/8 [==============================] - 0s 31ms/sample - loss: 0.5522 - acc: 0.0000e+00\n",
      "Epoch 2/50\n",
      "8/8 [==============================] - 0s 8ms/sample - loss: 5.2758e-05 - acc: 1.0000\n",
      "Epoch 3/50\n",
      "8/8 [==============================] - 0s 8ms/sample - loss: 1.0005e-07 - acc: 1.0000\n",
      "Epoch 4/50\n",
      "8/8 [==============================] - 0s 6ms/sample - loss: 5.8589e-10 - acc: 1.0000\n",
      "Epoch 5/50\n",
      "8/8 [==============================] - 0s 6ms/sample - loss: 6.7957e-12 - acc: 1.0000\n",
      "Epoch 6/50\n",
      "8/8 [==============================] - 0s 7ms/sample - loss: 1.2510e-13 - acc: 1.0000\n",
      "Epoch 7/50\n",
      "8/8 [==============================] - 0s 6ms/sample - loss: 2.6297e-15 - acc: 1.0000\n",
      "Epoch 8/50\n",
      "8/8 [==============================] - 0s 6ms/sample - loss: 6.3871e-17 - acc: 1.0000\n",
      "Epoch 9/50\n",
      "8/8 [==============================] - 0s 6ms/sample - loss: 2.9014e-18 - acc: 1.0000\n",
      "Epoch 10/50\n",
      "8/8 [==============================] - 0s 7ms/sample - loss: 1.5863e-19 - acc: 1.0000\n",
      "Epoch 11/50\n",
      "8/8 [==============================] - 0s 8ms/sample - loss: 1.0320e-20 - acc: 1.0000\n",
      "Epoch 12/50\n",
      "8/8 [==============================] - 0s 7ms/sample - loss: 8.2235e-22 - acc: 1.0000\n",
      "Epoch 13/50\n",
      "8/8 [==============================] - 0s 7ms/sample - loss: 7.9358e-23 - acc: 1.0000\n",
      "Epoch 14/50\n",
      "8/8 [==============================] - 0s 8ms/sample - loss: 8.9201e-24 - acc: 1.0000\n",
      "Epoch 15/50\n",
      "8/8 [==============================] - 0s 7ms/sample - loss: 1.1518e-24 - acc: 1.0000\n",
      "Epoch 16/50\n",
      "8/8 [==============================] - 0s 7ms/sample - loss: 1.7108e-25 - acc: 1.0000\n",
      "Epoch 17/50\n",
      "8/8 [==============================] - 0s 6ms/sample - loss: 2.9103e-26 - acc: 1.0000\n",
      "Epoch 18/50\n",
      "8/8 [==============================] - 0s 7ms/sample - loss: 5.6133e-27 - acc: 1.0000\n",
      "Epoch 19/50\n",
      "8/8 [==============================] - 0s 6ms/sample - loss: 1.2221e-27 - acc: 1.0000\n",
      "Epoch 20/50\n",
      "8/8 [==============================] - 0s 7ms/sample - loss: 3.0279e-28 - acc: 1.0000\n",
      "Epoch 21/50\n",
      "8/8 [==============================] - 0s 7ms/sample - loss: 8.4515e-29 - acc: 1.0000\n",
      "Epoch 22/50\n",
      "8/8 [==============================] - 0s 7ms/sample - loss: 2.5966e-29 - acc: 1.0000\n",
      "Epoch 23/50\n",
      "8/8 [==============================] - 0s 7ms/sample - loss: 8.7497e-30 - acc: 1.0000\n",
      "Epoch 24/50\n",
      "8/8 [==============================] - 0s 7ms/sample - loss: 3.2070e-30 - acc: 1.0000\n",
      "Epoch 25/50\n",
      "8/8 [==============================] - 0s 7ms/sample - loss: 1.2726e-30 - acc: 1.0000\n",
      "Epoch 26/50\n",
      "8/8 [==============================] - 0s 7ms/sample - loss: 5.4409e-31 - acc: 1.0000\n",
      "Epoch 27/50\n",
      "8/8 [==============================] - 0s 7ms/sample - loss: 2.4918e-31 - acc: 1.0000\n",
      "Epoch 28/50\n",
      "8/8 [==============================] - 0s 6ms/sample - loss: 1.2159e-31 - acc: 1.0000\n",
      "Epoch 29/50\n",
      "8/8 [==============================] - 0s 7ms/sample - loss: 6.2947e-32 - acc: 1.0000\n",
      "Epoch 30/50\n",
      "8/8 [==============================] - 0s 7ms/sample - loss: 3.4399e-32 - acc: 1.0000\n",
      "Epoch 31/50\n",
      "8/8 [==============================] - 0s 7ms/sample - loss: 1.9776e-32 - acc: 1.0000\n",
      "Epoch 32/50\n",
      "8/8 [==============================] - 0s 7ms/sample - loss: 1.1905e-32 - acc: 1.0000\n",
      "Epoch 33/50\n",
      "8/8 [==============================] - 0s 7ms/sample - loss: 7.4790e-33 - acc: 1.0000\n",
      "Epoch 34/50\n",
      "8/8 [==============================] - 0s 7ms/sample - loss: 4.8877e-33 - acc: 1.0000\n",
      "Epoch 35/50\n",
      "8/8 [==============================] - 0s 7ms/sample - loss: 3.3123e-33 - acc: 1.0000\n",
      "Epoch 36/50\n",
      "8/8 [==============================] - 0s 7ms/sample - loss: 2.3213e-33 - acc: 1.0000\n",
      "Epoch 37/50\n",
      "8/8 [==============================] - 0s 7ms/sample - loss: 1.6776e-33 - acc: 1.0000\n",
      "Epoch 38/50\n",
      "8/8 [==============================] - 0s 7ms/sample - loss: 1.2471e-33 - acc: 1.0000\n",
      "Epoch 39/50\n",
      "8/8 [==============================] - 0s 7ms/sample - loss: 9.5141e-34 - acc: 1.0000\n",
      "Epoch 40/50\n",
      "8/8 [==============================] - 0s 7ms/sample - loss: 7.4329e-34 - acc: 1.0000\n",
      "Epoch 41/50\n",
      "8/8 [==============================] - 0s 7ms/sample - loss: 5.9344e-34 - acc: 1.0000\n",
      "Epoch 42/50\n",
      "8/8 [==============================] - 0s 7ms/sample - loss: 4.8330e-34 - acc: 1.0000\n",
      "Epoch 43/50\n",
      "8/8 [==============================] - 0s 7ms/sample - loss: 4.0080e-34 - acc: 1.0000\n",
      "Epoch 44/50\n",
      "8/8 [==============================] - 0s 7ms/sample - loss: 3.3792e-34 - acc: 1.0000\n",
      "Epoch 45/50\n",
      "8/8 [==============================] - 0s 7ms/sample - loss: 2.8927e-34 - acc: 1.0000\n",
      "Epoch 46/50\n",
      "8/8 [==============================] - 0s 7ms/sample - loss: 2.5109e-34 - acc: 1.0000\n",
      "Epoch 47/50\n",
      "8/8 [==============================] - 0s 7ms/sample - loss: 2.2074e-34 - acc: 1.0000\n",
      "Epoch 48/50\n",
      "8/8 [==============================] - 0s 7ms/sample - loss: 1.9630e-34 - acc: 1.0000\n",
      "Epoch 49/50\n",
      "8/8 [==============================] - 0s 7ms/sample - loss: 1.7638e-34 - acc: 1.0000\n",
      "Epoch 50/50\n",
      "8/8 [==============================] - 0s 6ms/sample - loss: 1.5995e-34 - acc: 1.0000\n"
     ]
    },
    {
     "data": {
      "text/plain": [
       "<tensorflow.python.keras.callbacks.History at 0x7f63f6f504a8>"
      ]
     },
     "execution_count": 118,
     "metadata": {},
     "output_type": "execute_result"
    }
   ],
   "source": [
    "model.fit( train_data, label , epochs = 50)"
   ]
  },
  {
   "cell_type": "code",
   "execution_count": 122,
   "metadata": {},
   "outputs": [
    {
     "name": "stdout",
     "output_type": "stream",
     "text": [
      "WARNING:tensorflow:This model was compiled with a Keras optimizer (<tensorflow.python.keras.optimizers.Adam object at 0x7f64045e8940>) but is being saved in TensorFlow format with `save_weights`. The model's weights will be saved, but unlike with TensorFlow optimizers in the TensorFlow format the optimizer's state will not be saved.\n",
      "\n",
      "Consider using a TensorFlow optimizer from `tf.train`.\n"
     ]
    }
   ],
   "source": [
    "model.save_weights('./checkpoint_model_2/my_checkpoint')"
   ]
  },
  {
   "cell_type": "code",
   "execution_count": 120,
   "metadata": {},
   "outputs": [],
   "source": [
    "# prediction = model.predict([train_data])"
   ]
  },
  {
   "cell_type": "code",
   "execution_count": 121,
   "metadata": {},
   "outputs": [],
   "source": [
    "# print(np.argmax(prediction[1]))"
   ]
  },
  {
   "cell_type": "code",
   "execution_count": null,
   "metadata": {},
   "outputs": [],
   "source": []
  }
 ],
 "metadata": {
  "kernelspec": {
   "display_name": "Python 3",
   "language": "python",
   "name": "python3"
  },
  "language_info": {
   "codemirror_mode": {
    "name": "ipython",
    "version": 3
   },
   "file_extension": ".py",
   "mimetype": "text/x-python",
   "name": "python",
   "nbconvert_exporter": "python",
   "pygments_lexer": "ipython3",
   "version": "3.6.9"
  }
 },
 "nbformat": 4,
 "nbformat_minor": 4
}
