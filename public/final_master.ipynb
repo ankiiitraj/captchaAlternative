{
 "cells": [
  {
   "cell_type": "code",
   "execution_count": 1,
   "metadata": {},
   "outputs": [
    {
     "name": "stderr",
     "output_type": "stream",
     "text": [
      "/home/rishabhlucky/Documents/Virtualenv/lib/python3.6/site-packages/tensorflow/python/framework/dtypes.py:526: FutureWarning: Passing (type, 1) or '1type' as a synonym of type is deprecated; in a future version of numpy, it will be understood as (type, (1,)) / '(1,)type'.\n",
      "  _np_qint8 = np.dtype([(\"qint8\", np.int8, 1)])\n",
      "/home/rishabhlucky/Documents/Virtualenv/lib/python3.6/site-packages/tensorflow/python/framework/dtypes.py:527: FutureWarning: Passing (type, 1) or '1type' as a synonym of type is deprecated; in a future version of numpy, it will be understood as (type, (1,)) / '(1,)type'.\n",
      "  _np_quint8 = np.dtype([(\"quint8\", np.uint8, 1)])\n",
      "/home/rishabhlucky/Documents/Virtualenv/lib/python3.6/site-packages/tensorflow/python/framework/dtypes.py:528: FutureWarning: Passing (type, 1) or '1type' as a synonym of type is deprecated; in a future version of numpy, it will be understood as (type, (1,)) / '(1,)type'.\n",
      "  _np_qint16 = np.dtype([(\"qint16\", np.int16, 1)])\n",
      "/home/rishabhlucky/Documents/Virtualenv/lib/python3.6/site-packages/tensorflow/python/framework/dtypes.py:529: FutureWarning: Passing (type, 1) or '1type' as a synonym of type is deprecated; in a future version of numpy, it will be understood as (type, (1,)) / '(1,)type'.\n",
      "  _np_quint16 = np.dtype([(\"quint16\", np.uint16, 1)])\n",
      "/home/rishabhlucky/Documents/Virtualenv/lib/python3.6/site-packages/tensorflow/python/framework/dtypes.py:530: FutureWarning: Passing (type, 1) or '1type' as a synonym of type is deprecated; in a future version of numpy, it will be understood as (type, (1,)) / '(1,)type'.\n",
      "  _np_qint32 = np.dtype([(\"qint32\", np.int32, 1)])\n",
      "/home/rishabhlucky/Documents/Virtualenv/lib/python3.6/site-packages/tensorflow/python/framework/dtypes.py:535: FutureWarning: Passing (type, 1) or '1type' as a synonym of type is deprecated; in a future version of numpy, it will be understood as (type, (1,)) / '(1,)type'.\n",
      "  np_resource = np.dtype([(\"resource\", np.ubyte, 1)])\n"
     ]
    }
   ],
   "source": [
    "import tensorflow as tf\n",
    "import matplotlib.pyplot as plt\n",
    "import librosa as lb\n",
    "import numpy as np\n",
    "import pylab"
   ]
  },
  {
   "cell_type": "code",
   "execution_count": 2,
   "metadata": {},
   "outputs": [],
   "source": [
    "import wave\n",
    "import numpy as np\n",
    "import matplotlib.pyplot as plt\n",
    "\n",
    "# wr = wave.open('cb.wav', 'r')\n",
    "# sz = 44100 # Read and process 1 second at a time.\n",
    "# da = np.fromstring(wr.readframes(sz), dtype=np.int16)\n",
    "# left, right = da[0::2], da[1::2]"
   ]
  },
  {
   "cell_type": "code",
   "execution_count": 3,
   "metadata": {},
   "outputs": [],
   "source": [
    "input_files = ['0143m.wav','0483m.wav','1232m.wav','2031m.wav','2995m.wav','5678m.wav','6363m.wav','8376m.wav']"
   ]
  },
  {
   "cell_type": "code",
   "execution_count": 4,
   "metadata": {},
   "outputs": [],
   "source": [
    "real_output = [[0,1,4,3],[0,4,8,3],[1,2,3,2],[2,0,3,1], [2,9,9,5], [5,6,7,8], [6,3,6,3],[8,3,7,6]]"
   ]
  },
  {
   "cell_type": "code",
   "execution_count": 5,
   "metadata": {},
   "outputs": [
    {
     "data": {
      "text/plain": [
       "8"
      ]
     },
     "execution_count": 5,
     "metadata": {},
     "output_type": "execute_result"
    }
   ],
   "source": [
    "len(input_files)"
   ]
  },
  {
   "cell_type": "code",
   "execution_count": 6,
   "metadata": {},
   "outputs": [
    {
     "data": {
      "text/plain": [
       "8"
      ]
     },
     "execution_count": 6,
     "metadata": {},
     "output_type": "execute_result"
    }
   ],
   "source": [
    "len(real_output)"
   ]
  },
  {
   "cell_type": "code",
   "execution_count": 7,
   "metadata": {},
   "outputs": [],
   "source": [
    "train_data = np.empty((0,128,40,1))\n",
    "label = np.empty((0,10))"
   ]
  },
  {
   "cell_type": "code",
   "execution_count": 8,
   "metadata": {},
   "outputs": [
    {
     "data": {
      "text/plain": [
       "(0, 128, 40, 1)"
      ]
     },
     "execution_count": 8,
     "metadata": {},
     "output_type": "execute_result"
    }
   ],
   "source": [
    "train_data.shape"
   ]
  },
  {
   "cell_type": "code",
   "execution_count": 9,
   "metadata": {},
   "outputs": [
    {
     "name": "stdout",
     "output_type": "stream",
     "text": [
      "0\n",
      "1\n"
     ]
    },
    {
     "name": "stderr",
     "output_type": "stream",
     "text": [
      "/home/rishabhlucky/Documents/Virtualenv/lib/python3.6/site-packages/ipykernel_launcher.py:5: MatplotlibDeprecationWarning: Adding an axes using the same arguments as a previous axes currently reuses the earlier instance.  In a future version, a new instance will always be created and returned.  Meanwhile, this warning can be suppressed, and the future behavior ensured, by passing a unique label to each axes instance.\n",
      "  \"\"\"\n"
     ]
    },
    {
     "name": "stdout",
     "output_type": "stream",
     "text": [
      "2\n",
      "3\n",
      "4\n",
      "5\n",
      "6\n",
      "7\n"
     ]
    },
    {
     "data": {
      "image/png": "[encoded data removed]",
      "text/plain": [
       "<Figure size 432x288 with 2 Axes>"
      ]
     },
     "metadata": {
      "needs_background": "light"
     },
     "output_type": "display_data"
    }
   ],
   "source": [
    "for counter in range(8):\n",
    "    print (counter)\n",
    "    y, sr = lb.load(input_files[counter])\n",
    "    pylab.axis('off') # no axis\n",
    "    pylab.axes([0., 0., 1., 1.], frameon=False, xticks=[], yticks=[]) # Remove the white edge\n",
    "    S = lb.feature.melspectrogram(y, sr)\n",
    "    r = len(S)    # 3 rows in your example\n",
    "    c = len(S[0]) # 2 columns in your example\n",
    "\n",
    "    s1=[]\n",
    "    ss1=[]\n",
    "    ss2=[]\n",
    "    ss3=[]\n",
    "    ss4=[]\n",
    "    sm=0\n",
    "    for i in range(0,c):\n",
    "        for j in range(0,r):\n",
    "            sm=sm+S[j][i]\n",
    "    sm=sm/(r*c)\n",
    "    S=S*(100/sm)\n",
    "    for i in range(0,c):\n",
    "        x=0\n",
    "        for j in range(0,r):\n",
    "            x=x+S[j][i]\n",
    "            sm=sm+S[j][i]\n",
    "        s1.append(x)\n",
    "    ind=0\n",
    "    ind2=0\n",
    "    f=0\n",
    "    g=int(c/4)\n",
    "    for i in range(0,c-7,g):\n",
    "        x=s1[i]\n",
    "        if x>3 and f==0:\n",
    "            ind=i\n",
    "            f=f+1\n",
    "        elif f==1:\n",
    "            ind2=i\n",
    "            break\n",
    "    g=int((c-ind)/4)\n",
    "    for i in range(0,r):\n",
    "        temp=[]\n",
    "        for j in range(ind,ind2-1):\n",
    "            x1=ind2-1-ind\n",
    "            temp.append(S[i][j])\n",
    "        ss1.append(temp)\n",
    "\n",
    "    ind=ind2\n",
    "    f=0\n",
    "    for i in range(ind2,c-7,g):\n",
    "        x=s1[i]\n",
    "        if x>3 and f==0:\n",
    "            ind=i\n",
    "            f=f+1\n",
    "        elif f==1:\n",
    "            ind2=i\n",
    "            break\n",
    "    for i in range(0,r):\n",
    "        temp2=[]\n",
    "        for j in range(ind,ind2-1):\n",
    "            x2=ind2-1-ind\n",
    "            temp2.append(S[i][j])\n",
    "        ss2.append(temp2)\n",
    "    ind=0\n",
    "    f=0\n",
    "    for i in range(ind2,c-7,g):\n",
    "        x=s1[i]\n",
    "        if x>3 and f==0:\n",
    "            ind=i\n",
    "            f=f+1\n",
    "        elif f==1:\n",
    "            ind2=i\n",
    "            break\n",
    "    for i in range(0,r):\n",
    "        temp=[]\n",
    "        for j in range(ind,ind2-1):\n",
    "            x3=ind2-1-ind\n",
    "            temp.append(S[i][j])\n",
    "        ss3.append(temp)\n",
    "    ind=0\n",
    "    f=0\n",
    "    for i in range(0,r):\n",
    "        temp=[]\n",
    "        for j in range(ind2-3,c):\n",
    "            x4=c-ind2+3\n",
    "            temp.append(S[i][j])\n",
    "        ss4.append(temp)\n",
    "\n",
    "    c2=len(ss1[0])\n",
    "    t=40\n",
    "    import math\n",
    "    def normal_round(n):\n",
    "        return math.ceil(n)\n",
    "    while c2<t:\n",
    "        x7=[]\n",
    "        for i in range(1,c2,normal_round(t/c2)):\n",
    "            c2=len(ss1[0])\n",
    "            if(c2>=t):\n",
    "                break\n",
    "            for j in range(0,r):\n",
    "                ss1[j].insert(i+1,ss1[j][i-1])\n",
    "            c2=len(ss1[0])\n",
    "    c2=len(ss1[0])\n",
    "    while c2>t:\n",
    "        for i in range(1,c2,normal_round(c2/t)):\n",
    "            c2=len(ss1[0])\n",
    "            if(c2<=t):\n",
    "                break\n",
    "            for j in range(0,r):\n",
    "                if i>=c2:\n",
    "                    i=c2-1\n",
    "                ss1[j].pop(i)\n",
    "            c2=len(ss1[0])\n",
    "\n",
    "    c2=len(ss2[0])\n",
    "    t=40\n",
    "    import math\n",
    "    def normal_round(n):\n",
    "        return math.ceil(n)\n",
    "    while c2<t:\n",
    "        x7=[]\n",
    "        for i in range(1,c2,normal_round(t/c2)):\n",
    "            c2=len(ss2[0])\n",
    "            if(c2>=t):\n",
    "                break\n",
    "            for j in range(0,r):\n",
    "                ss2[j].insert(i+1,ss2[j][i-1])\n",
    "            c2=len(ss2[0])\n",
    "    c2=len(ss2[0])\n",
    "    while c2>t:\n",
    "        for i in range(1,c2,normal_round(c2/t)):\n",
    "            c2=len(ss2[0])\n",
    "            if(c2<=t):\n",
    "                break\n",
    "            for j in range(0,r):\n",
    "                if i>=c2:\n",
    "                    i=c2-1\n",
    "                ss2[j].pop(i)\n",
    "            c2=len(ss2[0])\n",
    "\n",
    "    c2=len(ss3[0])\n",
    "    t=40\n",
    "    import math\n",
    "    def normal_round(n):\n",
    "        return math.ceil(n)\n",
    "    while c2<t:\n",
    "        x7=[]\n",
    "        for i in range(1,c2,normal_round(t/c2)):\n",
    "            c2=len(ss3[0])\n",
    "            if(c2>=t):\n",
    "                break\n",
    "            for j in range(0,r):\n",
    "                ss3[j].insert(i+1,ss3[j][i-1])\n",
    "            c2=len(ss3[0])\n",
    "    c2=len(ss3[0])\n",
    "    while c2>t:\n",
    "        for i in range(1,c2,normal_round(c2/t)):\n",
    "            c2=len(ss3[0])\n",
    "            if(c2<=t):\n",
    "                break\n",
    "            for j in range(0,r):\n",
    "                if i>=c2:\n",
    "                    i=c2-1\n",
    "                ss3[j].pop(i)\n",
    "            c2=len(ss3[0])\n",
    "\n",
    "    c2=len(ss4[0])\n",
    "    t=40\n",
    "    import math\n",
    "    def normal_round(n):\n",
    "        return math.ceil(n)\n",
    "    while c2<t:\n",
    "        x7=[]\n",
    "        for i in range(1,c2,normal_round(t/c2)):\n",
    "            c2=len(ss4[0])\n",
    "            if(c2>=t):\n",
    "                break\n",
    "            for j in range(0,r):\n",
    "                ss4[j].insert(i+1,ss4[j][i-1])\n",
    "            c2=len(ss4[0])\n",
    "    c2=len(ss4[0])\n",
    "    while c2>t:\n",
    "        for i in range(1,c2,normal_round(c2/t)):\n",
    "            c2=len(ss4[0])\n",
    "            if(c2<=t):\n",
    "                break\n",
    "            for j in range(0,r):\n",
    "                if i>=c2:\n",
    "                    i=c2-1\n",
    "                ss4[j].pop(i)\n",
    "            c2=len(ss4[0])\n",
    "    \n",
    "    sss1 = np.array(ss1)\n",
    "    s6 = np.log10(sss1+0.0001)+5\n",
    "    \n",
    "    sss2 = np.array(ss2)\n",
    "    s7 = np.log10(sss2+0.0001)+5\n",
    "    \n",
    "    sss3 = np.array(ss3)\n",
    "    s8 = np.log10(sss3+0.0001)+5\n",
    "    \n",
    "    sss4 = np.array(ss4)\n",
    "    s9 = np.log10(sss4+0.0001)+5\n",
    "    \n",
    "    \n",
    "    \n",
    "    t1 = s6.reshape(128, 40, 1)\n",
    "    t2 = s7.reshape(128, 40, 1)\n",
    "    t3 = s8.reshape(128, 40, 1)\n",
    "    t4 = s9.reshape(128, 40, 1)\n",
    "    \n",
    "    l1 = [0,0,0,0,0,0,0,0,0,0]\n",
    "    l1[real_output[counter][0]] = 1\n",
    "    \n",
    "    l2 = [0,0,0,0,0,0,0,0,0,0]\n",
    "    l2[real_output[counter][1]] = 1\n",
    "    \n",
    "    l3 = [0,0,0,0,0,0,0,0,0,0]\n",
    "    l3[real_output[counter][2]] = 1\n",
    "    \n",
    "    l4 = [0,0,0,0,0,0,0,0,0,0]\n",
    "    l4[real_output[counter][3]] = 1\n",
    "    \n",
    "    tx=[t1,t2,t3,t4]\n",
    "    lx=[l1,l2,l3,l4]\n",
    "    train_data=np.concatenate((train_data,tx), axis=0, out=None)\n",
    "    label=np.concatenate((label,lx), axis=0, out=None)\n",
    "    "
   ]
  },
  {
   "cell_type": "code",
   "execution_count": 10,
   "metadata": {},
   "outputs": [
    {
     "data": {
      "text/plain": [
       "(32, 10)"
      ]
     },
     "execution_count": 10,
     "metadata": {},
     "output_type": "execute_result"
    }
   ],
   "source": [
    "label.shape"
   ]
  },
  {
   "cell_type": "code",
   "execution_count": null,
   "metadata": {},
   "outputs": [],
   "source": []
  },
  {
   "cell_type": "code",
   "execution_count": null,
   "metadata": {},
   "outputs": [],
   "source": []
  },
  {
   "cell_type": "code",
   "execution_count": null,
   "metadata": {},
   "outputs": [],
   "source": []
  },
  {
   "cell_type": "code",
   "execution_count": 11,
   "metadata": {},
   "outputs": [],
   "source": [
    "save_path = 'test.jpg'"
   ]
  },
  {
   "cell_type": "code",
   "execution_count": null,
   "metadata": {},
   "outputs": [],
   "source": []
  },
  {
   "cell_type": "code",
   "execution_count": null,
   "metadata": {},
   "outputs": [],
   "source": []
  },
  {
   "cell_type": "code",
   "execution_count": null,
   "metadata": {},
   "outputs": [],
   "source": []
  },
  {
   "cell_type": "code",
   "execution_count": null,
   "metadata": {},
   "outputs": [],
   "source": []
  },
  {
   "cell_type": "code",
   "execution_count": null,
   "metadata": {},
   "outputs": [],
   "source": []
  },
  {
   "cell_type": "code",
   "execution_count": 12,
   "metadata": {},
   "outputs": [
    {
     "data": {
      "text/plain": [
       "<matplotlib.image.AxesImage at 0x7f6415ea1f98>"
      ]
     },
     "execution_count": 12,
     "metadata": {},
     "output_type": "execute_result"
    },
    {
     "data": {
      "image/png": "[encoded data removed]",
      "text/plain": [
       "<Figure size 432x288 with 1 Axes>"
      ]
     },
     "metadata": {
      "needs_background": "light"
     },
     "output_type": "display_data"
    }
   ],
   "source": [
    "sss1 = np.array(ss1)\n",
    "s6 = np.log10(sss1+0.0001)+5\n",
    "plt.imshow(s6)"
   ]
  },
  {
   "cell_type": "code",
   "execution_count": 13,
   "metadata": {},
   "outputs": [
    {
     "data": {
      "text/plain": [
       "<matplotlib.image.AxesImage at 0x7f64159cae10>"
      ]
     },
     "execution_count": 13,
     "metadata": {},
     "output_type": "execute_result"
    },
    {
     "data": {
      "image/png": "[encoded data removed]",
      "text/plain": [
       "<Figure size 432x288 with 1 Axes>"
      ]
     },
     "metadata": {
      "needs_background": "light"
     },
     "output_type": "display_data"
    }
   ],
   "source": [
    "sss2 = np.array(ss2)\n",
    "s7 = np.log10(sss2+0.0001)+5\n",
    "plt.imshow(s7)"
   ]
  },
  {
   "cell_type": "code",
   "execution_count": 14,
   "metadata": {},
   "outputs": [
    {
     "data": {
      "text/plain": [
       "<matplotlib.image.AxesImage at 0x7f64159aec50>"
      ]
     },
     "execution_count": 14,
     "metadata": {},
     "output_type": "execute_result"
    },
    {
     "data": {
      "image/png": "[encoded data removed]",
      "text/plain": [
       "<Figure size 432x288 with 1 Axes>"
      ]
     },
     "metadata": {
      "needs_background": "light"
     },
     "output_type": "display_data"
    }
   ],
   "source": [
    "sss3 = np.array(ss3)\n",
    "s8 = np.log10(sss3+0.0001)+5\n",
    "plt.imshow(s8)"
   ]
  },
  {
   "cell_type": "code",
   "execution_count": 15,
   "metadata": {},
   "outputs": [
    {
     "data": {
      "text/plain": [
       "<matplotlib.image.AxesImage at 0x7f64159139e8>"
      ]
     },
     "execution_count": 15,
     "metadata": {},
     "output_type": "execute_result"
    },
    {
     "data": {
      "image/png": "[encoded data removed]",
      "text/plain": [
       "<Figure size 432x288 with 1 Axes>"
      ]
     },
     "metadata": {
      "needs_background": "light"
     },
     "output_type": "display_data"
    }
   ],
   "source": [
    "sss4 = np.array(ss4)\n",
    "s9 = np.log10(sss4+0.0001)+5\n",
    "plt.imshow(s9)"
   ]
  },
  {
   "cell_type": "code",
   "execution_count": 16,
   "metadata": {},
   "outputs": [
    {
     "data": {
      "text/plain": [
       "<matplotlib.image.AxesImage at 0x7f6415878358>"
      ]
     },
     "execution_count": 16,
     "metadata": {},
     "output_type": "execute_result"
    },
    {
     "data": {
      "image/png": "[encoded data removed]",
      "text/plain": [
       "<Figure size 432x288 with 1 Axes>"
      ]
     },
     "metadata": {
      "needs_background": "light"
     },
     "output_type": "display_data"
    }
   ],
   "source": [
    "s = np.log10(S+0.0001)+5\n",
    "plt.imshow(s)"
   ]
  },
  {
   "cell_type": "code",
   "execution_count": 17,
   "metadata": {},
   "outputs": [
    {
     "data": {
      "text/plain": [
       "(128, 40)"
      ]
     },
     "execution_count": 17,
     "metadata": {},
     "output_type": "execute_result"
    }
   ],
   "source": [
    "s6.shape"
   ]
  },
  {
   "cell_type": "code",
   "execution_count": 18,
   "metadata": {},
   "outputs": [
    {
     "data": {
      "text/plain": [
       "(128, 40)"
      ]
     },
     "execution_count": 18,
     "metadata": {},
     "output_type": "execute_result"
    }
   ],
   "source": [
    "s7.shape"
   ]
  },
  {
   "cell_type": "code",
   "execution_count": 19,
   "metadata": {},
   "outputs": [
    {
     "data": {
      "text/plain": [
       "(128, 40)"
      ]
     },
     "execution_count": 19,
     "metadata": {},
     "output_type": "execute_result"
    }
   ],
   "source": [
    "s8.shape"
   ]
  },
  {
   "cell_type": "code",
   "execution_count": 20,
   "metadata": {},
   "outputs": [
    {
     "data": {
      "text/plain": [
       "(128, 40)"
      ]
     },
     "execution_count": 20,
     "metadata": {},
     "output_type": "execute_result"
    }
   ],
   "source": [
    "s9.shape"
   ]
  },
  {
   "cell_type": "code",
   "execution_count": 21,
   "metadata": {},
   "outputs": [
    {
     "data": {
      "text/plain": [
       "(32, 128, 40, 1)"
      ]
     },
     "execution_count": 21,
     "metadata": {},
     "output_type": "execute_result"
    }
   ],
   "source": [
    "# t1 = np.asarray(s6, dtype=float)\n",
    "\n",
    "# train_data = [td]\n",
    "\n",
    "\n",
    "\n",
    "\n",
    "\n",
    "\n",
    "train_data.shape"
   ]
  },
  {
   "cell_type": "code",
   "execution_count": 22,
   "metadata": {},
   "outputs": [
    {
     "name": "stdout",
     "output_type": "stream",
     "text": [
      "WARNING:tensorflow:From /home/rishabhlucky/Documents/Virtualenv/lib/python3.6/site-packages/tensorflow/python/framework/op_def_library.py:263: colocate_with (from tensorflow.python.framework.ops) is deprecated and will be removed in a future version.\n",
      "Instructions for updating:\n",
      "Colocations handled automatically by placer.\n"
     ]
    }
   ],
   "source": [
    "import tflearn \n",
    "from tflearn.layers.conv import conv_2d, max_pool_2d \n",
    "from tflearn.layers.core import input_data, dropout, fully_connected \n",
    "from tflearn.layers.estimator import regression "
   ]
  },
  {
   "cell_type": "code",
   "execution_count": 23,
   "metadata": {},
   "outputs": [],
   "source": [
    "from tensorflow import keras\n",
    "from tensorflow.keras.models import Sequential\n",
    "from tensorflow.keras.layers import Dense, Conv2D, Flatten\n",
    "#create model\n",
    "model = Sequential([\n",
    "    keras.layers.Conv2D(16, 3, padding='same', activation='relu', input_shape=(128, 40, 1)),\n",
    "    keras.layers.MaxPooling2D(),\n",
    "    keras.layers.Conv2D(32, 3, padding='same', activation='relu'),\n",
    "    keras.layers.MaxPooling2D(),\n",
    "    keras.layers.Conv2D(64, 3, padding='same', activation='relu'),\n",
    "    keras.layers.MaxPooling2D(),\n",
    "    keras.layers.Flatten(),\n",
    "    keras.layers.Dense(256, activation='relu'),\n",
    "    keras.layers.Dense(60, activation='relu'),\n",
    "    keras.layers.Dense(10, activation='softmax')\n",
    "])\n"
   ]
  },
  {
   "cell_type": "code",
   "execution_count": 24,
   "metadata": {},
   "outputs": [
    {
     "name": "stdout",
     "output_type": "stream",
     "text": [
      "WARNING:tensorflow:From /home/rishabhlucky/Documents/Virtualenv/lib/python3.6/site-packages/tensorflow/python/keras/utils/losses_utils.py:170: to_float (from tensorflow.python.ops.math_ops) is deprecated and will be removed in a future version.\n",
      "Instructions for updating:\n",
      "Use tf.cast instead.\n"
     ]
    }
   ],
   "source": [
    "model.compile(optimizer='adam', loss='mean_squared_error', metrics=['accuracy'])"
   ]
  },
  {
   "cell_type": "code",
   "execution_count": null,
   "metadata": {},
   "outputs": [],
   "source": []
  },
  {
   "cell_type": "code",
   "execution_count": 25,
   "metadata": {},
   "outputs": [
    {
     "name": "stdout",
     "output_type": "stream",
     "text": [
      "WARNING:tensorflow:From /home/rishabhlucky/Documents/Virtualenv/lib/python3.6/site-packages/tensorflow/python/ops/math_ops.py:3066: to_int32 (from tensorflow.python.ops.math_ops) is deprecated and will be removed in a future version.\n",
      "Instructions for updating:\n",
      "Use tf.cast instead.\n",
      "Epoch 1/50\n",
      "32/32 [==============================] - 0s 10ms/sample - loss: 0.0948 - acc: 0.1250\n",
      "Epoch 2/50\n",
      "32/32 [==============================] - 0s 4ms/sample - loss: 0.0951 - acc: 0.0938\n",
      "Epoch 3/50\n",
      "32/32 [==============================] - 0s 4ms/sample - loss: 0.0940 - acc: 0.2188\n",
      "Epoch 4/50\n",
      "32/32 [==============================] - 0s 4ms/sample - loss: 0.0942 - acc: 0.0938\n",
      "Epoch 5/50\n",
      "32/32 [==============================] - 0s 4ms/sample - loss: 0.0920 - acc: 0.1250\n",
      "Epoch 6/50\n",
      "32/32 [==============================] - 0s 4ms/sample - loss: 0.0900 - acc: 0.2188\n",
      "Epoch 7/50\n",
      "32/32 [==============================] - 0s 4ms/sample - loss: 0.0891 - acc: 0.2188\n",
      "Epoch 8/50\n",
      "32/32 [==============================] - 0s 4ms/sample - loss: 0.0886 - acc: 0.2188\n",
      "Epoch 9/50\n",
      "32/32 [==============================] - 0s 4ms/sample - loss: 0.0882 - acc: 0.2188\n",
      "Epoch 10/50\n",
      "32/32 [==============================] - 0s 4ms/sample - loss: 0.0879 - acc: 0.2188\n",
      "Epoch 11/50\n",
      "32/32 [==============================] - 0s 4ms/sample - loss: 0.0876 - acc: 0.2188\n",
      "Epoch 12/50\n",
      "32/32 [==============================] - 0s 4ms/sample - loss: 0.0874 - acc: 0.2188\n",
      "Epoch 13/50\n",
      "32/32 [==============================] - 0s 4ms/sample - loss: 0.0869 - acc: 0.2188\n",
      "Epoch 14/50\n",
      "32/32 [==============================] - 0s 4ms/sample - loss: 0.0864 - acc: 0.2188\n",
      "Epoch 15/50\n",
      "32/32 [==============================] - 0s 4ms/sample - loss: 0.0860 - acc: 0.2188\n",
      "Epoch 16/50\n",
      "32/32 [==============================] - 0s 4ms/sample - loss: 0.0853 - acc: 0.2188\n",
      "Epoch 17/50\n",
      "32/32 [==============================] - 0s 4ms/sample - loss: 0.0845 - acc: 0.2188\n",
      "Epoch 18/50\n",
      "32/32 [==============================] - 0s 4ms/sample - loss: 0.0836 - acc: 0.2188\n",
      "Epoch 19/50\n",
      "32/32 [==============================] - 0s 4ms/sample - loss: 0.0823 - acc: 0.2188\n",
      "Epoch 20/50\n",
      "32/32 [==============================] - 0s 4ms/sample - loss: 0.0811 - acc: 0.2188\n",
      "Epoch 21/50\n",
      "32/32 [==============================] - 0s 4ms/sample - loss: 0.0795 - acc: 0.3125\n",
      "Epoch 22/50\n",
      "32/32 [==============================] - 0s 4ms/sample - loss: 0.0777 - acc: 0.3125\n",
      "Epoch 23/50\n",
      "32/32 [==============================] - 0s 4ms/sample - loss: 0.0755 - acc: 0.4062\n",
      "Epoch 24/50\n",
      "32/32 [==============================] - 0s 4ms/sample - loss: 0.0732 - acc: 0.4375\n",
      "Epoch 25/50\n",
      "32/32 [==============================] - 0s 4ms/sample - loss: 0.0710 - acc: 0.6562\n",
      "Epoch 26/50\n",
      "32/32 [==============================] - 0s 4ms/sample - loss: 0.0708 - acc: 0.4062\n",
      "Epoch 27/50\n",
      "32/32 [==============================] - 0s 4ms/sample - loss: 0.0703 - acc: 0.5938\n",
      "Epoch 28/50\n",
      "32/32 [==============================] - 0s 4ms/sample - loss: 0.0683 - acc: 0.5000\n",
      "Epoch 29/50\n",
      "32/32 [==============================] - 0s 4ms/sample - loss: 0.0619 - acc: 0.5938\n",
      "Epoch 30/50\n",
      "32/32 [==============================] - 0s 4ms/sample - loss: 0.0649 - acc: 0.4375\n",
      "Epoch 31/50\n",
      "32/32 [==============================] - 0s 4ms/sample - loss: 0.0621 - acc: 0.5625\n",
      "Epoch 32/50\n",
      "32/32 [==============================] - 0s 4ms/sample - loss: 0.0573 - acc: 0.6875\n",
      "Epoch 33/50\n",
      "32/32 [==============================] - 0s 4ms/sample - loss: 0.0574 - acc: 0.5625\n",
      "Epoch 34/50\n",
      "32/32 [==============================] - 0s 4ms/sample - loss: 0.0550 - acc: 0.5000\n",
      "Epoch 35/50\n",
      "32/32 [==============================] - 0s 4ms/sample - loss: 0.0506 - acc: 0.6875\n",
      "Epoch 36/50\n",
      "32/32 [==============================] - 0s 4ms/sample - loss: 0.0491 - acc: 0.7812\n",
      "Epoch 37/50\n",
      "32/32 [==============================] - 0s 4ms/sample - loss: 0.0453 - acc: 0.8125\n",
      "Epoch 38/50\n",
      "32/32 [==============================] - 0s 4ms/sample - loss: 0.0439 - acc: 0.6562\n",
      "Epoch 39/50\n",
      "32/32 [==============================] - 0s 4ms/sample - loss: 0.0386 - acc: 0.8438\n",
      "Epoch 40/50\n",
      "32/32 [==============================] - 0s 4ms/sample - loss: 0.0366 - acc: 0.8438\n",
      "Epoch 41/50\n",
      "32/32 [==============================] - 0s 4ms/sample - loss: 0.0331 - acc: 0.7812\n",
      "Epoch 42/50\n",
      "32/32 [==============================] - 0s 4ms/sample - loss: 0.0307 - acc: 0.8125\n",
      "Epoch 43/50\n",
      "32/32 [==============================] - 0s 4ms/sample - loss: 0.0266 - acc: 0.9062\n",
      "Epoch 44/50\n",
      "32/32 [==============================] - 0s 4ms/sample - loss: 0.0239 - acc: 0.8750\n",
      "Epoch 45/50\n",
      "32/32 [==============================] - 0s 4ms/sample - loss: 0.0215 - acc: 0.9062\n",
      "Epoch 46/50\n",
      "32/32 [==============================] - 0s 4ms/sample - loss: 0.0183 - acc: 0.9375\n",
      "Epoch 47/50\n",
      "32/32 [==============================] - 0s 4ms/sample - loss: 0.0160 - acc: 0.9375\n",
      "Epoch 48/50\n",
      "32/32 [==============================] - 0s 4ms/sample - loss: 0.0132 - acc: 0.9688\n",
      "Epoch 49/50\n",
      "32/32 [==============================] - 0s 4ms/sample - loss: 0.0115 - acc: 0.9688\n",
      "Epoch 50/50\n",
      "32/32 [==============================] - 0s 4ms/sample - loss: 0.0106 - acc: 0.9688\n"
     ]
    },
    {
     "data": {
      "text/plain": [
       "<tensorflow.python.keras.callbacks.History at 0x7f640cd3b2e8>"
      ]
     },
     "execution_count": 25,
     "metadata": {},
     "output_type": "execute_result"
    }
   ],
   "source": [
    "model.fit( train_data, label , epochs = 50)"
   ]
  },
  {
   "cell_type": "code",
   "execution_count": 27,
   "metadata": {},
   "outputs": [
    {
     "name": "stdout",
     "output_type": "stream",
     "text": [
      "WARNING:tensorflow:This model was compiled with a Keras optimizer (<tensorflow.python.keras.optimizers.Adam object at 0x7f6438b986a0>) but is being saved in TensorFlow format with `save_weights`. The model's weights will be saved, but unlike with TensorFlow optimizers in the TensorFlow format the optimizer's state will not be saved.\n",
      "\n",
      "Consider using a TensorFlow optimizer from `tf.train`.\n",
      "WARNING:tensorflow:From /home/rishabhlucky/Documents/Virtualenv/lib/python3.6/site-packages/tensorflow/python/keras/engine/network.py:1436: update_checkpoint_state (from tensorflow.python.training.checkpoint_management) is deprecated and will be removed in a future version.\n",
      "Instructions for updating:\n",
      "Use tf.train.CheckpointManager to manage checkpoints rather than manually editing the Checkpoint proto.\n"
     ]
    }
   ],
   "source": [
    "model.save_weights('./checkpoint_model_1/my_checkpoint')"
   ]
  },
  {
   "cell_type": "code",
   "execution_count": 26,
   "metadata": {},
   "outputs": [],
   "source": [
    "# prediction = model.predict([train_data])"
   ]
  },
  {
   "cell_type": "code",
   "execution_count": null,
   "metadata": {},
   "outputs": [],
   "source": [
    "# print(np.argmax(prediction[1]))"
   ]
  },
  {
   "cell_type": "code",
   "execution_count": null,
   "metadata": {},
   "outputs": [],
   "source": []
  }
 ],
 "metadata": {
  "kernelspec": {
   "display_name": "Python 3",
   "language": "python",
   "name": "python3"
  },
  "language_info": {
   "codemirror_mode": {
    "name": "ipython",
    "version": 3
   },
   "file_extension": ".py",
   "mimetype": "text/x-python",
   "name": "python",
   "nbconvert_exporter": "python",
   "pygments_lexer": "ipython3",
   "version": "3.6.9"
  }
 },
 "nbformat": 4,
 "nbformat_minor": 4
}
