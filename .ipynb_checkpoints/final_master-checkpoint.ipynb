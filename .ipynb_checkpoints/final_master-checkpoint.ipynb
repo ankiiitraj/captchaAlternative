{
 "cells": [
  {
   "cell_type": "code",
   "execution_count": 1,
   "metadata": {},
   "outputs": [
    {
     "name": "stderr",
     "output_type": "stream",
     "text": [
      "/home/rishabhlucky/Documents/Virtualenv/lib/python3.6/site-packages/tensorflow/python/framework/dtypes.py:526: FutureWarning: Passing (type, 1) or '1type' as a synonym of type is deprecated; in a future version of numpy, it will be understood as (type, (1,)) / '(1,)type'.\n",
      "  _np_qint8 = np.dtype([(\"qint8\", np.int8, 1)])\n",
      "/home/rishabhlucky/Documents/Virtualenv/lib/python3.6/site-packages/tensorflow/python/framework/dtypes.py:527: FutureWarning: Passing (type, 1) or '1type' as a synonym of type is deprecated; in a future version of numpy, it will be understood as (type, (1,)) / '(1,)type'.\n",
      "  _np_quint8 = np.dtype([(\"quint8\", np.uint8, 1)])\n",
      "/home/rishabhlucky/Documents/Virtualenv/lib/python3.6/site-packages/tensorflow/python/framework/dtypes.py:528: FutureWarning: Passing (type, 1) or '1type' as a synonym of type is deprecated; in a future version of numpy, it will be understood as (type, (1,)) / '(1,)type'.\n",
      "  _np_qint16 = np.dtype([(\"qint16\", np.int16, 1)])\n",
      "/home/rishabhlucky/Documents/Virtualenv/lib/python3.6/site-packages/tensorflow/python/framework/dtypes.py:529: FutureWarning: Passing (type, 1) or '1type' as a synonym of type is deprecated; in a future version of numpy, it will be understood as (type, (1,)) / '(1,)type'.\n",
      "  _np_quint16 = np.dtype([(\"quint16\", np.uint16, 1)])\n",
      "/home/rishabhlucky/Documents/Virtualenv/lib/python3.6/site-packages/tensorflow/python/framework/dtypes.py:530: FutureWarning: Passing (type, 1) or '1type' as a synonym of type is deprecated; in a future version of numpy, it will be understood as (type, (1,)) / '(1,)type'.\n",
      "  _np_qint32 = np.dtype([(\"qint32\", np.int32, 1)])\n",
      "/home/rishabhlucky/Documents/Virtualenv/lib/python3.6/site-packages/tensorflow/python/framework/dtypes.py:535: FutureWarning: Passing (type, 1) or '1type' as a synonym of type is deprecated; in a future version of numpy, it will be understood as (type, (1,)) / '(1,)type'.\n",
      "  np_resource = np.dtype([(\"resource\", np.ubyte, 1)])\n"
     ]
    }
   ],
   "source": [
    "import tensorflow as tf\n",
    "import matplotlib.pyplot as plt\n",
    "import librosa as lb\n",
    "import numpy as np\n",
    "import pylab"
   ]
  },
  {
   "cell_type": "code",
   "execution_count": 2,
   "metadata": {},
   "outputs": [],
   "source": [
    "import wave\n",
    "import numpy as np\n",
    "import matplotlib.pyplot as plt\n",
    "\n",
    "# wr = wave.open('cb.wav', 'r')\n",
    "# sz = 44100 # Read and process 1 second at a time.\n",
    "# da = np.fromstring(wr.readframes(sz), dtype=np.int16)\n",
    "# left, right = da[0::2], da[1::2]"
   ]
  },
  {
   "cell_type": "code",
   "execution_count": 3,
   "metadata": {},
   "outputs": [],
   "source": [
    "input_files = ['0376.wav','0478.wav','0963.wav', '1248.wav',  '1485.wav', '1689.wav','1764.wav','1793.wav','1976.wav','2108.wav','2170.wav','2374.wav','2401.wav','0143m.wav','0483m.wav','1232m.wav','2031m.wav','2995m.wav','5678m.wav','6363m.wav','8376m.wav']"
   ]
  },
  {
   "cell_type": "code",
   "execution_count": 4,
   "metadata": {},
   "outputs": [],
   "source": [
    "real_output = [[0,3,7,6], [0,4,7,8], [0,9,6,3],[1,2,4,8], [1,4,8,5], [1,6,8,9], [1,7,6,4], [1,7,9,3], [1,9,7,6], [2,1,0,8], [2,1,7,0], [2,3,7,4],[2,4,0,1],[0,1,4,3],[0,4,8,3],[1,2,3,2],[2,0,3,1], [2,9,9,5], [5,6,7,8], [6,3,6,3],[8,3,7,6]]"
   ]
  },
  {
   "cell_type": "code",
   "execution_count": 5,
   "metadata": {},
   "outputs": [
    {
     "data": {
      "text/plain": [
       "22"
      ]
     },
     "execution_count": 5,
     "metadata": {},
     "output_type": "execute_result"
    }
   ],
   "source": [
    "len(input_files)"
   ]
  },
  {
   "cell_type": "code",
   "execution_count": 6,
   "metadata": {},
   "outputs": [
    {
     "data": {
      "text/plain": [
       "22"
      ]
     },
     "execution_count": 6,
     "metadata": {},
     "output_type": "execute_result"
    }
   ],
   "source": [
    "len(real_output)"
   ]
  },
  {
   "cell_type": "code",
   "execution_count": 7,
   "metadata": {},
   "outputs": [],
   "source": [
    "train_data = np.empty((0,128,40,1))\n",
    "label = np.empty((0,10))"
   ]
  },
  {
   "cell_type": "code",
   "execution_count": 8,
   "metadata": {},
   "outputs": [
    {
     "data": {
      "text/plain": [
       "(0, 128, 40, 1)"
      ]
     },
     "execution_count": 8,
     "metadata": {},
     "output_type": "execute_result"
    }
   ],
   "source": [
    "train_data.shape"
   ]
  },
  {
   "cell_type": "code",
   "execution_count": 9,
   "metadata": {},
   "outputs": [
    {
     "name": "stdout",
     "output_type": "stream",
     "text": [
      "0\n",
      "1\n",
      "2\n"
     ]
    },
    {
     "name": "stderr",
     "output_type": "stream",
     "text": [
      "/home/rishabhlucky/Documents/Virtualenv/lib/python3.6/site-packages/ipykernel_launcher.py:5: MatplotlibDeprecationWarning: Adding an axes using the same arguments as a previous axes currently reuses the earlier instance.  In a future version, a new instance will always be created and returned.  Meanwhile, this warning can be suppressed, and the future behavior ensured, by passing a unique label to each axes instance.\n",
      "  \"\"\"\n"
     ]
    },
    {
     "name": "stdout",
     "output_type": "stream",
     "text": [
      "3\n",
      "4\n"
     ]
    },
    {
     "ename": "ZeroDivisionError",
     "evalue": "division by zero",
     "output_type": "error",
     "traceback": [
      "\u001b[0;31m---------------------------------------------------------------------------\u001b[0m",
      "\u001b[0;31mZeroDivisionError\u001b[0m                         Traceback (most recent call last)",
      "\u001b[0;32m<ipython-input-9-2d1641b42847>\u001b[0m in \u001b[0;36m<module>\u001b[0;34m\u001b[0m\n\u001b[1;32m     93\u001b[0m     \u001b[0;32mwhile\u001b[0m \u001b[0mc2\u001b[0m\u001b[0;34m<\u001b[0m\u001b[0mt\u001b[0m\u001b[0;34m:\u001b[0m\u001b[0;34m\u001b[0m\u001b[0;34m\u001b[0m\u001b[0m\n\u001b[1;32m     94\u001b[0m         \u001b[0mx7\u001b[0m\u001b[0;34m=\u001b[0m\u001b[0;34m[\u001b[0m\u001b[0;34m]\u001b[0m\u001b[0;34m\u001b[0m\u001b[0;34m\u001b[0m\u001b[0m\n\u001b[0;32m---> 95\u001b[0;31m         \u001b[0;32mfor\u001b[0m \u001b[0mi\u001b[0m \u001b[0;32min\u001b[0m \u001b[0mrange\u001b[0m\u001b[0;34m(\u001b[0m\u001b[0;36m1\u001b[0m\u001b[0;34m,\u001b[0m\u001b[0mc2\u001b[0m\u001b[0;34m,\u001b[0m\u001b[0mnormal_round\u001b[0m\u001b[0;34m(\u001b[0m\u001b[0mt\u001b[0m\u001b[0;34m/\u001b[0m\u001b[0mc2\u001b[0m\u001b[0;34m)\u001b[0m\u001b[0;34m)\u001b[0m\u001b[0;34m:\u001b[0m\u001b[0;34m\u001b[0m\u001b[0;34m\u001b[0m\u001b[0m\n\u001b[0m\u001b[1;32m     96\u001b[0m             \u001b[0mc2\u001b[0m\u001b[0;34m=\u001b[0m\u001b[0mlen\u001b[0m\u001b[0;34m(\u001b[0m\u001b[0mss1\u001b[0m\u001b[0;34m[\u001b[0m\u001b[0;36m0\u001b[0m\u001b[0;34m]\u001b[0m\u001b[0;34m)\u001b[0m\u001b[0;34m\u001b[0m\u001b[0;34m\u001b[0m\u001b[0m\n\u001b[1;32m     97\u001b[0m             \u001b[0;32mif\u001b[0m\u001b[0;34m(\u001b[0m\u001b[0mc2\u001b[0m\u001b[0;34m>=\u001b[0m\u001b[0mt\u001b[0m\u001b[0;34m)\u001b[0m\u001b[0;34m:\u001b[0m\u001b[0;34m\u001b[0m\u001b[0;34m\u001b[0m\u001b[0m\n",
      "\u001b[0;31mZeroDivisionError\u001b[0m: division by zero"
     ]
    },
    {
     "data": {
      "image/png": "[encoded data removed]",
      "text/plain": [
       "<Figure size 432x288 with 2 Axes>"
      ]
     },
     "metadata": {
      "needs_background": "light"
     },
     "output_type": "display_data"
    }
   ],
   "source": [
    "for counter in range(22):\n",
    "    print (counter)\n",
    "    y, sr = lb.load(input_files[counter])\n",
    "    pylab.axis('off') # no axis\n",
    "    pylab.axes([0., 0., 1., 1.], frameon=False, xticks=[], yticks=[]) # Remove the white edge\n",
    "    S = lb.feature.melspectrogram(y, sr)\n",
    "    r = len(S)    # 3 rows in your example\n",
    "    c = len(S[0]) # 2 columns in your example\n",
    "\n",
    "    s1=[]\n",
    "    ss1=[]\n",
    "    ss2=[]\n",
    "    ss3=[]\n",
    "    ss4=[]\n",
    "    sm=0\n",
    "    for i in range(0,c):\n",
    "        for j in range(0,r):\n",
    "            sm=sm+S[j][i]\n",
    "    sm=sm/(r*c)\n",
    "    S=S*(100/sm)\n",
    "    for i in range(0,c):\n",
    "        x=0\n",
    "        for j in range(0,r):\n",
    "            x=x+S[j][i]\n",
    "            sm=sm+S[j][i]\n",
    "        s1.append(x)\n",
    "    ind=0\n",
    "    ind2=0\n",
    "    f=0\n",
    "    g=int(c/4)\n",
    "    for i in range(0,c-7,g):\n",
    "        x=s1[i]\n",
    "        if x>3 and f==0:\n",
    "            ind=i\n",
    "            f=f+1\n",
    "        elif f==1:\n",
    "            ind2=i\n",
    "            break\n",
    "    g=int((c-ind)/4)\n",
    "    for i in range(0,r):\n",
    "        temp=[]\n",
    "        for j in range(ind,ind2-1):\n",
    "            x1=ind2-1-ind\n",
    "            temp.append(S[i][j])\n",
    "        ss1.append(temp)\n",
    "\n",
    "    ind=ind2\n",
    "    f=0\n",
    "    for i in range(ind2,c-7,g):\n",
    "        x=s1[i]\n",
    "        if x>3 and f==0:\n",
    "            ind=i\n",
    "            f=f+1\n",
    "        elif f==1:\n",
    "            ind2=i\n",
    "            break\n",
    "    for i in range(0,r):\n",
    "        temp2=[]\n",
    "        for j in range(ind,ind2-1):\n",
    "            x2=ind2-1-ind\n",
    "            temp2.append(S[i][j])\n",
    "        ss2.append(temp2)\n",
    "    ind=0\n",
    "    f=0\n",
    "    for i in range(ind2,c-7,g):\n",
    "        x=s1[i]\n",
    "        if x>3 and f==0:\n",
    "            ind=i\n",
    "            f=f+1\n",
    "        elif f==1:\n",
    "            ind2=i\n",
    "            break\n",
    "    for i in range(0,r):\n",
    "        temp=[]\n",
    "        for j in range(ind,ind2-1):\n",
    "            x3=ind2-1-ind\n",
    "            temp.append(S[i][j])\n",
    "        ss3.append(temp)\n",
    "    ind=0\n",
    "    f=0\n",
    "    for i in range(0,r):\n",
    "        temp=[]\n",
    "        for j in range(ind2-3,c):\n",
    "            x4=c-ind2+3\n",
    "            temp.append(S[i][j])\n",
    "        ss4.append(temp)\n",
    "\n",
    "    c2=len(ss1[0])\n",
    "    t=40\n",
    "    import math\n",
    "    def normal_round(n):\n",
    "        return math.ceil(n)\n",
    "    while c2<t:\n",
    "        x7=[]\n",
    "        for i in range(1,c2,normal_round(t/c2)):\n",
    "            c2=len(ss1[0])\n",
    "            if(c2>=t):\n",
    "                break\n",
    "            for j in range(0,r):\n",
    "                ss1[j].insert(i+1,ss1[j][i-1])\n",
    "            c2=len(ss1[0])\n",
    "    c2=len(ss1[0])\n",
    "    while c2>t:\n",
    "        for i in range(1,c2,normal_round(c2/t)):\n",
    "            c2=len(ss1[0])\n",
    "            if(c2<=t):\n",
    "                break\n",
    "            for j in range(0,r):\n",
    "                if i>=c2:\n",
    "                    i=c2-1\n",
    "                ss1[j].pop(i)\n",
    "            c2=len(ss1[0])\n",
    "\n",
    "    c2=len(ss2[0])\n",
    "    t=40\n",
    "    import math\n",
    "    def normal_round(n):\n",
    "        return math.ceil(n)\n",
    "    while c2<t:\n",
    "        x7=[]\n",
    "        for i in range(1,c2,normal_round(t/c2)):\n",
    "            c2=len(ss2[0])\n",
    "            if(c2>=t):\n",
    "                break\n",
    "            for j in range(0,r):\n",
    "                ss2[j].insert(i+1,ss2[j][i-1])\n",
    "            c2=len(ss2[0])\n",
    "    c2=len(ss2[0])\n",
    "    while c2>t:\n",
    "        for i in range(1,c2,normal_round(c2/t)):\n",
    "            c2=len(ss2[0])\n",
    "            if(c2<=t):\n",
    "                break\n",
    "            for j in range(0,r):\n",
    "                if i>=c2:\n",
    "                    i=c2-1\n",
    "                ss2[j].pop(i)\n",
    "            c2=len(ss2[0])\n",
    "\n",
    "    c2=len(ss3[0])\n",
    "    t=40\n",
    "    import math\n",
    "    def normal_round(n):\n",
    "        return math.ceil(n)\n",
    "    while c2<t:\n",
    "        x7=[]\n",
    "        for i in range(1,c2,normal_round(t/c2)):\n",
    "            c2=len(ss3[0])\n",
    "            if(c2>=t):\n",
    "                break\n",
    "            for j in range(0,r):\n",
    "                ss3[j].insert(i+1,ss3[j][i-1])\n",
    "            c2=len(ss3[0])\n",
    "    c2=len(ss3[0])\n",
    "    while c2>t:\n",
    "        for i in range(1,c2,normal_round(c2/t)):\n",
    "            c2=len(ss3[0])\n",
    "            if(c2<=t):\n",
    "                break\n",
    "            for j in range(0,r):\n",
    "                if i>=c2:\n",
    "                    i=c2-1\n",
    "                ss3[j].pop(i)\n",
    "            c2=len(ss3[0])\n",
    "\n",
    "    c2=len(ss4[0])\n",
    "    t=40\n",
    "    import math\n",
    "    def normal_round(n):\n",
    "        return math.ceil(n)\n",
    "    while c2<t:\n",
    "        x7=[]\n",
    "        for i in range(1,c2,normal_round(t/c2)):\n",
    "            c2=len(ss4[0])\n",
    "            if(c2>=t):\n",
    "                break\n",
    "            for j in range(0,r):\n",
    "                ss4[j].insert(i+1,ss4[j][i-1])\n",
    "            c2=len(ss4[0])\n",
    "    c2=len(ss4[0])\n",
    "    while c2>t:\n",
    "        for i in range(1,c2,normal_round(c2/t)):\n",
    "            c2=len(ss4[0])\n",
    "            if(c2<=t):\n",
    "                break\n",
    "            for j in range(0,r):\n",
    "                if i>=c2:\n",
    "                    i=c2-1\n",
    "                ss4[j].pop(i)\n",
    "            c2=len(ss4[0])\n",
    "    \n",
    "    sss1 = np.array(ss1)\n",
    "    s6 = np.log10(sss1+0.0001)+5\n",
    "    \n",
    "    sss2 = np.array(ss2)\n",
    "    s7 = np.log10(sss2+0.0001)+5\n",
    "    \n",
    "    sss3 = np.array(ss3)\n",
    "    s8 = np.log10(sss3+0.0001)+5\n",
    "    \n",
    "    sss4 = np.array(ss4)\n",
    "    s9 = np.log10(sss4+0.0001)+5\n",
    "    \n",
    "    \n",
    "    \n",
    "    t1 = s6.reshape(128, 40, 1)\n",
    "    t2 = s7.reshape(128, 40, 1)\n",
    "    t3 = s8.reshape(128, 40, 1)\n",
    "    t4 = s9.reshape(128, 40, 1)\n",
    "    \n",
    "    l1 = [0,0,0,0,0,0,0,0,0,0]\n",
    "    l1[real_output[counter][0]] = 1\n",
    "    \n",
    "    l2 = [0,0,0,0,0,0,0,0,0,0]\n",
    "    l2[real_output[counter][1]] = 1\n",
    "    \n",
    "    l3 = [0,0,0,0,0,0,0,0,0,0]\n",
    "    l3[real_output[counter][2]] = 1\n",
    "    \n",
    "    l4 = [0,0,0,0,0,0,0,0,0,0]\n",
    "    l4[real_output[counter][3]] = 1\n",
    "    \n",
    "    tx=[t1,t2,t3,t4]\n",
    "    lx=[l1,l2,l3,l4]\n",
    "    train_data=np.concatenate((train_data,tx), axis=0, out=None)\n",
    "    label=np.concatenate((label,lx), axis=0, out=None)\n",
    "    "
   ]
  },
  {
   "cell_type": "code",
   "execution_count": null,
   "metadata": {},
   "outputs": [],
   "source": [
    "label.shape"
   ]
  },
  {
   "cell_type": "code",
   "execution_count": null,
   "metadata": {},
   "outputs": [],
   "source": []
  },
  {
   "cell_type": "code",
   "execution_count": null,
   "metadata": {},
   "outputs": [],
   "source": []
  },
  {
   "cell_type": "code",
   "execution_count": null,
   "metadata": {},
   "outputs": [],
   "source": []
  },
  {
   "cell_type": "code",
   "execution_count": null,
   "metadata": {},
   "outputs": [],
   "source": [
    "save_path = 'test.jpg'"
   ]
  },
  {
   "cell_type": "code",
   "execution_count": null,
   "metadata": {},
   "outputs": [],
   "source": []
  },
  {
   "cell_type": "code",
   "execution_count": null,
   "metadata": {},
   "outputs": [],
   "source": []
  },
  {
   "cell_type": "code",
   "execution_count": null,
   "metadata": {},
   "outputs": [],
   "source": []
  },
  {
   "cell_type": "code",
   "execution_count": null,
   "metadata": {},
   "outputs": [],
   "source": []
  },
  {
   "cell_type": "code",
   "execution_count": null,
   "metadata": {},
   "outputs": [],
   "source": []
  },
  {
   "cell_type": "code",
   "execution_count": null,
   "metadata": {},
   "outputs": [],
   "source": [
    "sss1 = np.array(ss1)\n",
    "s6 = np.log10(sss1+0.0001)+5\n",
    "plt.imshow(s6)"
   ]
  },
  {
   "cell_type": "code",
   "execution_count": null,
   "metadata": {},
   "outputs": [],
   "source": [
    "sss2 = np.array(ss2)\n",
    "s7 = np.log10(sss2+0.0001)+5\n",
    "plt.imshow(s7)"
   ]
  },
  {
   "cell_type": "code",
   "execution_count": null,
   "metadata": {},
   "outputs": [],
   "source": [
    "sss3 = np.array(ss3)\n",
    "s8 = np.log10(sss3+0.0001)+5\n",
    "plt.imshow(s8)"
   ]
  },
  {
   "cell_type": "code",
   "execution_count": null,
   "metadata": {},
   "outputs": [],
   "source": [
    "sss4 = np.array(ss4)\n",
    "s9 = np.log10(sss4+0.0001)+5\n",
    "plt.imshow(s9)"
   ]
  },
  {
   "cell_type": "code",
   "execution_count": null,
   "metadata": {},
   "outputs": [],
   "source": [
    "s = np.log10(S+0.0001)+5\n",
    "plt.imshow(s)"
   ]
  },
  {
   "cell_type": "code",
   "execution_count": null,
   "metadata": {},
   "outputs": [],
   "source": [
    "s6.shape"
   ]
  },
  {
   "cell_type": "code",
   "execution_count": null,
   "metadata": {},
   "outputs": [],
   "source": [
    "s7.shape"
   ]
  },
  {
   "cell_type": "code",
   "execution_count": null,
   "metadata": {},
   "outputs": [],
   "source": [
    "s8.shape"
   ]
  },
  {
   "cell_type": "code",
   "execution_count": null,
   "metadata": {},
   "outputs": [],
   "source": [
    "s9.shape"
   ]
  },
  {
   "cell_type": "code",
   "execution_count": null,
   "metadata": {},
   "outputs": [],
   "source": [
    "# t1 = np.asarray(s6, dtype=float)\n",
    "\n",
    "# train_data = [td]\n",
    "\n",
    "\n",
    "\n",
    "\n",
    "\n",
    "\n",
    "train_data.shape"
   ]
  },
  {
   "cell_type": "code",
   "execution_count": null,
   "metadata": {},
   "outputs": [],
   "source": [
    "import tflearn \n",
    "from tflearn.layers.conv import conv_2d, max_pool_2d \n",
    "from tflearn.layers.core import input_data, dropout, fully_connected \n",
    "from tflearn.layers.estimator import regression "
   ]
  },
  {
   "cell_type": "code",
   "execution_count": null,
   "metadata": {},
   "outputs": [],
   "source": [
    "from tensorflow import keras\n",
    "from tensorflow.keras.models import Sequential\n",
    "from tensorflow.keras.layers import Dense, Conv2D, Flatten\n",
    "#create model\n",
    "model = Sequential([\n",
    "    keras.layers.Conv2D(16, 3, padding='same', activation='relu', input_shape=(128, 40, 1)),\n",
    "    keras.layers.MaxPooling2D(),\n",
    "    keras.layers.Conv2D(32, 3, padding='same', activation='relu'),\n",
    "    keras.layers.MaxPooling2D(),\n",
    "    keras.layers.Conv2D(64, 3, padding='same', activation='relu'),\n",
    "    keras.layers.MaxPooling2D(),\n",
    "    keras.layers.Flatten(),\n",
    "    keras.layers.Dense(256, activation='relu'),\n",
    "    keras.layers.Dense(60, activation='relu'),\n",
    "    keras.layers.Dense(10, activation='softmax')\n",
    "])\n"
   ]
  },
  {
   "cell_type": "code",
   "execution_count": null,
   "metadata": {},
   "outputs": [],
   "source": [
    "model.compile(optimizer='adam', loss='mean_squared_error', metrics=['accuracy'])"
   ]
  },
  {
   "cell_type": "code",
   "execution_count": null,
   "metadata": {},
   "outputs": [],
   "source": []
  },
  {
   "cell_type": "code",
   "execution_count": null,
   "metadata": {},
   "outputs": [],
   "source": [
    "model.fit( train_data, label , epochs = 50)"
   ]
  },
  {
   "cell_type": "code",
   "execution_count": null,
   "metadata": {},
   "outputs": [],
   "source": [
    "prediction = model.predict([train_data])"
   ]
  },
  {
   "cell_type": "code",
   "execution_count": null,
   "metadata": {},
   "outputs": [],
   "source": [
    "print(np.argmax(prediction[1]))"
   ]
  },
  {
   "cell_type": "code",
   "execution_count": null,
   "metadata": {},
   "outputs": [],
   "source": []
  }
 ],
 "metadata": {
  "kernelspec": {
   "display_name": "Python 3",
   "language": "python",
   "name": "python3"
  },
  "language_info": {
   "codemirror_mode": {
    "name": "ipython",
    "version": 3
   },
   "file_extension": ".py",
   "mimetype": "text/x-python",
   "name": "python",
   "nbconvert_exporter": "python",
   "pygments_lexer": "ipython3",
   "version": "3.6.9"
  }
 },
 "nbformat": 4,
 "nbformat_minor": 4
}
