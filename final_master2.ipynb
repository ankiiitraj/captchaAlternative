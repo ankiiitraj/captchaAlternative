{
 "cells": [
  {
   "cell_type": "code",
   "execution_count": 160,
   "metadata": {},
   "outputs": [],
   "source": [
    "import tensorflow as tf\n",
    "import matplotlib.pyplot as plt\n",
    "import librosa as lb\n",
    "import numpy as np\n",
    "import pylab"
   ]
  },
  {
   "cell_type": "code",
   "execution_count": 161,
   "metadata": {},
   "outputs": [],
   "source": [
    "import wave\n",
    "import numpy as np\n",
    "import matplotlib.pyplot as plt\n",
    "\n",
    "# wr = wave.open('cb.wav', 'r')\n",
    "# sz = 44100 # Read and process 1 second at a time.\n",
    "# da = np.fromstring(wr.readframes(sz), dtype=np.int16)\n",
    "# left, right = da[0::2], da[1::2]"
   ]
  },
  {
   "cell_type": "code",
   "execution_count": 162,
   "metadata": {},
   "outputs": [],
   "source": [
    "input_files = ['0143m.wav','0483m.wav','1232m.wav','2031m.wav','2995m.wav','5678m.wav','6363m.wav','8376m.wav','0695.wav','1472.wav','1689.wav','1764.wav','2170.wav','2587.wav','3870.wav','4703.wav']"
   ]
  },
  {
   "cell_type": "code",
   "execution_count": 163,
   "metadata": {},
   "outputs": [],
   "source": [
    "real_output = [[1,0],[1,0],[1,0],[1,0], [1,0], [1,0], [1,0],[1,0],[0,1],[0,1],[0,1],[0,1],[0,1],[0,1],[0,1],[0,1]]"
   ]
  },
  {
   "cell_type": "code",
   "execution_count": 164,
   "metadata": {},
   "outputs": [
    {
     "data": {
      "text/plain": [
       "16"
      ]
     },
     "execution_count": 164,
     "metadata": {},
     "output_type": "execute_result"
    }
   ],
   "source": [
    "len(input_files)"
   ]
  },
  {
   "cell_type": "code",
   "execution_count": 165,
   "metadata": {},
   "outputs": [
    {
     "data": {
      "text/plain": [
       "16"
      ]
     },
     "execution_count": 165,
     "metadata": {},
     "output_type": "execute_result"
    }
   ],
   "source": [
    "len(real_output)"
   ]
  },
  {
   "cell_type": "code",
   "execution_count": 166,
   "metadata": {},
   "outputs": [],
   "source": [
    "train_data = np.empty((0,128,50,1))\n",
    "label = np.empty((0,2))"
   ]
  },
  {
   "cell_type": "code",
   "execution_count": 167,
   "metadata": {},
   "outputs": [
    {
     "data": {
      "text/plain": [
       "(0, 128, 50, 1)"
      ]
     },
     "execution_count": 167,
     "metadata": {},
     "output_type": "execute_result"
    }
   ],
   "source": [
    "train_data.shape"
   ]
  },
  {
   "cell_type": "code",
   "execution_count": 168,
   "metadata": {},
   "outputs": [
    {
     "name": "stdout",
     "output_type": "stream",
     "text": [
      "0\n",
      "1\n"
     ]
    },
    {
     "name": "stderr",
     "output_type": "stream",
     "text": [
      "/home/rishabhlucky/Documents/Virtualenv/lib/python3.6/site-packages/ipykernel_launcher.py:5: MatplotlibDeprecationWarning: Adding an axes using the same arguments as a previous axes currently reuses the earlier instance.  In a future version, a new instance will always be created and returned.  Meanwhile, this warning can be suppressed, and the future behavior ensured, by passing a unique label to each axes instance.\n",
      "  \"\"\"\n"
     ]
    },
    {
     "name": "stdout",
     "output_type": "stream",
     "text": [
      "2\n",
      "3\n",
      "4\n",
      "5\n",
      "6\n",
      "7\n",
      "8\n",
      "9\n",
      "10\n",
      "11\n",
      "12\n",
      "13\n",
      "14\n",
      "15\n"
     ]
    },
    {
     "data": {
      "image/png": "[encoded data removed]",
      "text/plain": [
       "<Figure size 432x288 with 2 Axes>"
      ]
     },
     "metadata": {
      "needs_background": "light"
     },
     "output_type": "display_data"
    }
   ],
   "source": [
    "for counter in range(16):\n",
    "    print (counter)\n",
    "    y, sr = lb.load(input_files[counter])\n",
    "    pylab.axis('off') # no axis\n",
    "    pylab.axes([0., 0., 1., 1.], frameon=False, xticks=[], yticks=[]) # Remove the white edge\n",
    "    S = lb.feature.melspectrogram(y, sr)\n",
    "    sm=0\n",
    "    for i in range(0,c):\n",
    "        for j in range(0,r):\n",
    "            sm=sm+S[j][i]\n",
    "    sm=sm/(r*c)\n",
    "    S=S*(100/sm)\n",
    "    s = np.log10(S+0.0001)+5\n",
    "    z=s[:,30:80]\n",
    "    \n",
    "    t1 = z.reshape(128, 50, 1)\n",
    "    \n",
    "    l1 = [0,0]\n",
    "    l1[real_output[counter][0]] = 1\n",
    "    \n",
    "    tx=[t1]\n",
    "    lx=[l1]\n",
    "    train_data=np.concatenate((train_data,tx), axis=0, out=None)\n",
    "    label=np.concatenate((label,lx), axis=0, out=None)\n",
    "    "
   ]
  },
  {
   "cell_type": "code",
   "execution_count": 169,
   "metadata": {},
   "outputs": [
    {
     "data": {
      "text/plain": [
       "(16, 2)"
      ]
     },
     "execution_count": 169,
     "metadata": {},
     "output_type": "execute_result"
    }
   ],
   "source": [
    "label.shape"
   ]
  },
  {
   "cell_type": "code",
   "execution_count": null,
   "metadata": {},
   "outputs": [],
   "source": []
  },
  {
   "cell_type": "code",
   "execution_count": null,
   "metadata": {},
   "outputs": [],
   "source": []
  },
  {
   "cell_type": "code",
   "execution_count": null,
   "metadata": {},
   "outputs": [],
   "source": []
  },
  {
   "cell_type": "code",
   "execution_count": 170,
   "metadata": {},
   "outputs": [],
   "source": [
    "save_path = 'test.jpg'"
   ]
  },
  {
   "cell_type": "code",
   "execution_count": null,
   "metadata": {},
   "outputs": [],
   "source": []
  },
  {
   "cell_type": "code",
   "execution_count": null,
   "metadata": {},
   "outputs": [],
   "source": []
  },
  {
   "cell_type": "code",
   "execution_count": null,
   "metadata": {},
   "outputs": [],
   "source": []
  },
  {
   "cell_type": "code",
   "execution_count": null,
   "metadata": {},
   "outputs": [],
   "source": []
  },
  {
   "cell_type": "code",
   "execution_count": null,
   "metadata": {},
   "outputs": [],
   "source": []
  },
  {
   "cell_type": "code",
   "execution_count": 171,
   "metadata": {},
   "outputs": [
    {
     "data": {
      "text/plain": [
       "<matplotlib.image.AxesImage at 0x7f63f6843c50>"
      ]
     },
     "execution_count": 171,
     "metadata": {},
     "output_type": "execute_result"
    },
    {
     "data": {
      "image/png": "[encoded data removed]",
      "text/plain": [
       "<Figure size 432x288 with 1 Axes>"
      ]
     },
     "metadata": {
      "needs_background": "light"
     },
     "output_type": "display_data"
    }
   ],
   "source": [
    "sss1 = np.array(ss1)\n",
    "s6 = np.log10(sss1+0.0001)+5\n",
    "plt.imshow(s6)"
   ]
  },
  {
   "cell_type": "code",
   "execution_count": 172,
   "metadata": {},
   "outputs": [
    {
     "data": {
      "text/plain": [
       "<matplotlib.image.AxesImage at 0x7f63f6822c50>"
      ]
     },
     "execution_count": 172,
     "metadata": {},
     "output_type": "execute_result"
    },
    {
     "data": {
      "image/png": "[encoded data removed]",
      "text/plain": [
       "<Figure size 432x288 with 1 Axes>"
      ]
     },
     "metadata": {
      "needs_background": "light"
     },
     "output_type": "display_data"
    }
   ],
   "source": [
    "sss2 = np.array(ss2)\n",
    "s7 = np.log10(sss2+0.0001)+5\n",
    "plt.imshow(s7)"
   ]
  },
  {
   "cell_type": "code",
   "execution_count": 173,
   "metadata": {},
   "outputs": [
    {
     "data": {
      "text/plain": [
       "<matplotlib.image.AxesImage at 0x7f63f68d64e0>"
      ]
     },
     "execution_count": 173,
     "metadata": {},
     "output_type": "execute_result"
    },
    {
     "data": {
      "image/png": "[encoded data removed]",
      "text/plain": [
       "<Figure size 432x288 with 1 Axes>"
      ]
     },
     "metadata": {
      "needs_background": "light"
     },
     "output_type": "display_data"
    }
   ],
   "source": [
    "sss3 = np.array(ss3)\n",
    "s8 = np.log10(sss3+0.0001)+5\n",
    "plt.imshow(s8)"
   ]
  },
  {
   "cell_type": "code",
   "execution_count": 174,
   "metadata": {},
   "outputs": [
    {
     "data": {
      "text/plain": [
       "<matplotlib.image.AxesImage at 0x7f63f69f4128>"
      ]
     },
     "execution_count": 174,
     "metadata": {},
     "output_type": "execute_result"
    },
    {
     "data": {
      "image/png": "[encoded data removed]",
      "text/plain": [
       "<Figure size 432x288 with 1 Axes>"
      ]
     },
     "metadata": {
      "needs_background": "light"
     },
     "output_type": "display_data"
    }
   ],
   "source": [
    "sss4 = np.array(ss4)\n",
    "s9 = np.log10(sss4+0.0001)+5\n",
    "plt.imshow(s9)"
   ]
  },
  {
   "cell_type": "code",
   "execution_count": 175,
   "metadata": {},
   "outputs": [
    {
     "data": {
      "text/plain": [
       "<matplotlib.image.AxesImage at 0x7f63f6b77438>"
      ]
     },
     "execution_count": 175,
     "metadata": {},
     "output_type": "execute_result"
    },
    {
     "data": {
      "image/png": "[encoded data removed]",
      "text/plain": [
       "<Figure size 432x288 with 1 Axes>"
      ]
     },
     "metadata": {
      "needs_background": "light"
     },
     "output_type": "display_data"
    }
   ],
   "source": [
    "s = np.log10(S+0.0001)+5\n",
    "z=s[:,30:80]\n",
    "plt.imshow(z)"
   ]
  },
  {
   "cell_type": "code",
   "execution_count": 176,
   "metadata": {},
   "outputs": [
    {
     "data": {
      "text/plain": [
       "(16, 128, 50, 1)"
      ]
     },
     "execution_count": 176,
     "metadata": {},
     "output_type": "execute_result"
    }
   ],
   "source": [
    "# t1 = np.asarray(s6, dtype=float)\n",
    "\n",
    "# train_data = [td]\n",
    "\n",
    "\n",
    "\n",
    "\n",
    "\n",
    "\n",
    "train_data.shape"
   ]
  },
  {
   "cell_type": "code",
   "execution_count": 177,
   "metadata": {},
   "outputs": [],
   "source": [
    "import tflearn \n",
    "from tflearn.layers.conv import conv_2d, max_pool_2d \n",
    "from tflearn.layers.core import input_data, dropout, fully_connected \n",
    "from tflearn.layers.estimator import regression "
   ]
  },
  {
   "cell_type": "code",
   "execution_count": 178,
   "metadata": {},
   "outputs": [],
   "source": [
    "from tensorflow import keras\n",
    "from tensorflow.keras.models import Sequential\n",
    "from tensorflow.keras.layers import Dense, Conv2D, Flatten\n",
    "#create model\n",
    "model = Sequential([\n",
    "    keras.layers.Conv2D(16, 3, padding='same', activation='relu', input_shape=(128, 50, 1)),\n",
    "    keras.layers.MaxPooling2D(),\n",
    "    keras.layers.Conv2D(32, 3, padding='same', activation='relu'),\n",
    "    keras.layers.MaxPooling2D(),\n",
    "    keras.layers.Conv2D(64, 3, padding='same', activation='relu'),\n",
    "    keras.layers.MaxPooling2D(),\n",
    "    keras.layers.Flatten(),\n",
    "    keras.layers.Dense(256, activation='relu'),\n",
    "    keras.layers.Dense(60, activation='relu'),\n",
    "    keras.layers.Dense(2, activation='softmax')\n",
    "])\n"
   ]
  },
  {
   "cell_type": "code",
   "execution_count": 179,
   "metadata": {},
   "outputs": [],
   "source": [
    "model.compile(optimizer='adam', loss='mean_squared_error', metrics=['accuracy'])"
   ]
  },
  {
   "cell_type": "code",
   "execution_count": null,
   "metadata": {},
   "outputs": [],
   "source": []
  },
  {
   "cell_type": "code",
   "execution_count": 180,
   "metadata": {},
   "outputs": [
    {
     "name": "stdout",
     "output_type": "stream",
     "text": [
      "Epoch 1/50\n",
      "16/16 [==============================] - 0s 21ms/sample - loss: 0.2448 - acc: 0.5000\n",
      "Epoch 2/50\n",
      "16/16 [==============================] - 0s 5ms/sample - loss: 0.2552 - acc: 0.5000\n",
      "Epoch 3/50\n",
      "16/16 [==============================] - 0s 5ms/sample - loss: 0.1356 - acc: 0.8750\n",
      "Epoch 4/50\n",
      "16/16 [==============================] - 0s 5ms/sample - loss: 0.0467 - acc: 1.0000\n",
      "Epoch 5/50\n",
      "16/16 [==============================] - 0s 6ms/sample - loss: 0.0304 - acc: 1.0000\n",
      "Epoch 6/50\n",
      "16/16 [==============================] - 0s 5ms/sample - loss: 0.0124 - acc: 1.0000\n",
      "Epoch 7/50\n",
      "16/16 [==============================] - 0s 5ms/sample - loss: 0.0044 - acc: 1.0000\n",
      "Epoch 8/50\n",
      "16/16 [==============================] - 0s 5ms/sample - loss: 0.0059 - acc: 1.0000\n",
      "Epoch 9/50\n",
      "16/16 [==============================] - 0s 5ms/sample - loss: 0.0017 - acc: 1.0000\n",
      "Epoch 10/50\n",
      "16/16 [==============================] - 0s 5ms/sample - loss: 2.8575e-04 - acc: 1.0000\n",
      "Epoch 11/50\n",
      "16/16 [==============================] - 0s 5ms/sample - loss: 7.8616e-05 - acc: 1.0000\n",
      "Epoch 12/50\n",
      "16/16 [==============================] - 0s 5ms/sample - loss: 4.3280e-05 - acc: 1.0000\n",
      "Epoch 13/50\n",
      "16/16 [==============================] - 0s 5ms/sample - loss: 3.0889e-05 - acc: 1.0000\n",
      "Epoch 14/50\n",
      "16/16 [==============================] - 0s 5ms/sample - loss: 2.3432e-05 - acc: 1.0000\n",
      "Epoch 15/50\n",
      "16/16 [==============================] - 0s 5ms/sample - loss: 1.7905e-05 - acc: 1.0000\n",
      "Epoch 16/50\n",
      "16/16 [==============================] - 0s 5ms/sample - loss: 1.3595e-05 - acc: 1.0000\n",
      "Epoch 17/50\n",
      "16/16 [==============================] - 0s 6ms/sample - loss: 1.0375e-05 - acc: 1.0000\n",
      "Epoch 18/50\n",
      "16/16 [==============================] - 0s 5ms/sample - loss: 7.9375e-06 - acc: 1.0000\n",
      "Epoch 19/50\n",
      "16/16 [==============================] - 0s 5ms/sample - loss: 6.1035e-06 - acc: 1.0000\n",
      "Epoch 20/50\n",
      "16/16 [==============================] - 0s 5ms/sample - loss: 4.7045e-06 - acc: 1.0000\n",
      "Epoch 21/50\n",
      "16/16 [==============================] - 0s 5ms/sample - loss: 3.6542e-06 - acc: 1.0000\n",
      "Epoch 22/50\n",
      "16/16 [==============================] - 0s 5ms/sample - loss: 2.8583e-06 - acc: 1.0000\n",
      "Epoch 23/50\n",
      "16/16 [==============================] - 0s 5ms/sample - loss: 2.2543e-06 - acc: 1.0000\n",
      "Epoch 24/50\n",
      "16/16 [==============================] - 0s 5ms/sample - loss: 1.7966e-06 - acc: 1.0000\n",
      "Epoch 25/50\n",
      "16/16 [==============================] - 0s 5ms/sample - loss: 1.4472e-06 - acc: 1.0000\n",
      "Epoch 26/50\n",
      "16/16 [==============================] - 0s 5ms/sample - loss: 1.1786e-06 - acc: 1.0000\n",
      "Epoch 27/50\n",
      "16/16 [==============================] - 0s 5ms/sample - loss: 9.7000e-07 - acc: 1.0000\n",
      "Epoch 28/50\n",
      "16/16 [==============================] - 0s 5ms/sample - loss: 8.0660e-07 - acc: 1.0000\n",
      "Epoch 29/50\n",
      "16/16 [==============================] - 0s 5ms/sample - loss: 6.7814e-07 - acc: 1.0000\n",
      "Epoch 30/50\n",
      "16/16 [==============================] - 0s 5ms/sample - loss: 5.7589e-07 - acc: 1.0000\n",
      "Epoch 31/50\n",
      "16/16 [==============================] - 0s 6ms/sample - loss: 4.9387e-07 - acc: 1.0000\n",
      "Epoch 32/50\n",
      "16/16 [==============================] - 0s 5ms/sample - loss: 4.2791e-07 - acc: 1.0000\n",
      "Epoch 33/50\n",
      "16/16 [==============================] - 0s 5ms/sample - loss: 3.7439e-07 - acc: 1.0000\n",
      "Epoch 34/50\n",
      "16/16 [==============================] - 0s 5ms/sample - loss: 3.3091e-07 - acc: 1.0000\n",
      "Epoch 35/50\n",
      "16/16 [==============================] - 0s 5ms/sample - loss: 2.9511e-07 - acc: 1.0000\n",
      "Epoch 36/50\n",
      "16/16 [==============================] - 0s 5ms/sample - loss: 2.6537e-07 - acc: 1.0000\n",
      "Epoch 37/50\n",
      "16/16 [==============================] - 0s 5ms/sample - loss: 2.4041e-07 - acc: 1.0000\n",
      "Epoch 38/50\n",
      "16/16 [==============================] - 0s 5ms/sample - loss: 2.1928e-07 - acc: 1.0000\n",
      "Epoch 39/50\n",
      "16/16 [==============================] - 0s 5ms/sample - loss: 2.0135e-07 - acc: 1.0000\n",
      "Epoch 40/50\n",
      "16/16 [==============================] - 0s 5ms/sample - loss: 1.8605e-07 - acc: 1.0000\n",
      "Epoch 41/50\n",
      "16/16 [==============================] - 0s 5ms/sample - loss: 1.7289e-07 - acc: 1.0000\n",
      "Epoch 42/50\n",
      "16/16 [==============================] - 0s 5ms/sample - loss: 1.6155e-07 - acc: 1.0000\n",
      "Epoch 43/50\n",
      "16/16 [==============================] - 0s 5ms/sample - loss: 1.5170e-07 - acc: 1.0000\n",
      "Epoch 44/50\n",
      "16/16 [==============================] - 0s 5ms/sample - loss: 1.4313e-07 - acc: 1.0000\n",
      "Epoch 45/50\n",
      "16/16 [==============================] - 0s 5ms/sample - loss: 1.3561e-07 - acc: 1.0000\n",
      "Epoch 46/50\n",
      "16/16 [==============================] - 0s 5ms/sample - loss: 1.2900e-07 - acc: 1.0000\n",
      "Epoch 47/50\n",
      "16/16 [==============================] - 0s 6ms/sample - loss: 1.2316e-07 - acc: 1.0000\n",
      "Epoch 48/50\n",
      "16/16 [==============================] - 0s 6ms/sample - loss: 1.1799e-07 - acc: 1.0000\n",
      "Epoch 49/50\n",
      "16/16 [==============================] - 0s 6ms/sample - loss: 1.1341e-07 - acc: 1.0000\n",
      "Epoch 50/50\n",
      "16/16 [==============================] - 0s 6ms/sample - loss: 1.0932e-07 - acc: 1.0000\n"
     ]
    },
    {
     "data": {
      "text/plain": [
       "<tensorflow.python.keras.callbacks.History at 0x7f63f632f748>"
      ]
     },
     "execution_count": 180,
     "metadata": {},
     "output_type": "execute_result"
    }
   ],
   "source": [
    "model.fit( train_data, label , epochs = 50)"
   ]
  },
  {
   "cell_type": "code",
   "execution_count": 195,
   "metadata": {},
   "outputs": [
    {
     "name": "stdout",
     "output_type": "stream",
     "text": [
      "WARNING:tensorflow:This model was compiled with a Keras optimizer (<tensorflow.python.keras.optimizers.Adam object at 0x7f63f6c7f860>) but is being saved in TensorFlow format with `save_weights`. The model's weights will be saved, but unlike with TensorFlow optimizers in the TensorFlow format the optimizer's state will not be saved.\n",
      "\n",
      "Consider using a TensorFlow optimizer from `tf.train`.\n"
     ]
    }
   ],
   "source": [
    "model.save_weights('./checkpoint_model_2/my_checkpoint')"
   ]
  },
  {
   "cell_type": "code",
   "execution_count": 216,
   "metadata": {},
   "outputs": [
    {
     "data": {
      "image/png": "[encoded data removed]",
      "text/plain": [
       "<Figure size 432x288 with 2 Axes>"
      ]
     },
     "metadata": {
      "needs_background": "light"
     },
     "output_type": "display_data"
    }
   ],
   "source": [
    "y, sr = lb.load('8376m.wav')\n",
    "pylab.axis('off') # no axis\n",
    "pylab.axes([0., 0., 1., 1.], frameon=False, xticks=[], yticks=[]) # Remove the white edge\n",
    "S = lb.feature.melspectrogram(y, sr)\n",
    "r = len(S)    # 3 rows in your example\n",
    "c = len(S[0]) # 2 columns in your example\n",
    "sm=0\n",
    "for i in range(0,c):\n",
    "    for j in range(0,r):\n",
    "        sm=sm+S[j][i]\n",
    "sm=sm/(r*c)\n",
    "S=S*(100/sm)\n",
    "s = np.log10(S+0.0001)+5\n",
    "z=s[:,30:80]\n",
    "\n",
    "t1 = z.reshape(128, 50, 1)\n",
    "\n",
    "tx=np.array([t1])"
   ]
  },
  {
   "cell_type": "code",
   "execution_count": 217,
   "metadata": {},
   "outputs": [
    {
     "data": {
      "text/plain": [
       "(1, 128, 50, 1)"
      ]
     },
     "execution_count": 217,
     "metadata": {},
     "output_type": "execute_result"
    }
   ],
   "source": [
    "tx.shape"
   ]
  },
  {
   "cell_type": "code",
   "execution_count": 218,
   "metadata": {},
   "outputs": [],
   "source": [
    "prediction = model.predict(tx)"
   ]
  },
  {
   "cell_type": "code",
   "execution_count": 219,
   "metadata": {},
   "outputs": [
    {
     "name": "stdout",
     "output_type": "stream",
     "text": [
      "[[2.5700102e-09 1.0000000e+00]]\n"
     ]
    }
   ],
   "source": [
    "print(prediction)"
   ]
  },
  {
   "cell_type": "code",
   "execution_count": 220,
   "metadata": {},
   "outputs": [
    {
     "name": "stdout",
     "output_type": "stream",
     "text": [
      "1\n"
     ]
    }
   ],
   "source": [
    "print(np.argmax(prediction[0]))"
   ]
  },
  {
   "cell_type": "code",
   "execution_count": null,
   "metadata": {},
   "outputs": [],
   "source": []
  },
  {
   "cell_type": "code",
   "execution_count": null,
   "metadata": {},
   "outputs": [],
   "source": []
  }
 ],
 "metadata": {
  "kernelspec": {
   "display_name": "Python 3",
   "language": "python",
   "name": "python3"
  },
  "language_info": {
   "codemirror_mode": {
    "name": "ipython",
    "version": 3
   },
   "file_extension": ".py",
   "mimetype": "text/x-python",
   "name": "python",
   "nbconvert_exporter": "python",
   "pygments_lexer": "ipython3",
   "version": "3.6.9"
  }
 },
 "nbformat": 4,
 "nbformat_minor": 4
}
